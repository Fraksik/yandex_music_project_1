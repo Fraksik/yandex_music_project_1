{
 "cells": [
  {
   "cell_type": "markdown",
   "metadata": {
    "id": "E0vqbgi9ay0H"
   },
   "source": [
    "# Яндекс.Музыка"
   ]
  },
  {
   "cell_type": "markdown",
   "metadata": {
    "id": "VUC88oWjTJw2"
   },
   "source": [
    "Сравнение Москвы и Петербурга окружено мифами. Например:\n",
    " * Москва — мегаполис, подчинённый жёсткому ритму рабочей недели;\n",
    " * Петербург — культурная столица, со своими вкусами.\n",
    "\n",
    "На данных Яндекс.Музыки вы сравните поведение пользователей двух столиц.\n",
    "\n",
    "**Цель исследования** — проверьте три гипотезы:\n",
    "1. Активность пользователей зависит от дня недели. Причём в Москве и Петербурге это проявляется по-разному.\n",
    "2. В понедельник утром в Москве преобладают одни жанры, а в Петербурге — другие. Так же и вечером пятницы преобладают разные жанры — в зависимости от города. \n",
    "3. Москва и Петербург предпочитают разные жанры музыки. В Москве чаще слушают поп-музыку, в Петербурге — русский рэп.\n",
    "\n",
    "**Ход исследования**\n",
    "\n",
    "Данные о поведении пользователей вы получите из файла `yandex_music_project.csv`. О качестве данных ничего не известно. Поэтому перед проверкой гипотез понадобится обзор данных. \n",
    "\n",
    "Вы проверите данные на ошибки и оцените их влияние на исследование. Затем, на этапе предобработки вы поищете возможность исправить самые критичные ошибки данных.\n",
    " \n",
    "Таким образом, исследование пройдёт в три этапа:\n",
    " 1. Обзор данных.\n",
    " 2. Предобработка данных.\n",
    " 3. Проверка гипотез.\n",
    "\n"
   ]
  },
  {
   "cell_type": "markdown",
   "metadata": {
    "id": "Ml1hmfXC_Zcs"
   },
   "source": [
    "## Обзор данных\n",
    "\n",
    "Составьте первое представление о данных Яндекс.Музыки.\n",
    "\n",
    "\n"
   ]
  },
  {
   "cell_type": "markdown",
   "metadata": {
    "id": "57eAOGIz_Zcs"
   },
   "source": [
    "Основной инструмент аналитика — `pandas`. Импортируйте эту библиотеку."
   ]
  },
  {
   "cell_type": "code",
   "execution_count": 1,
   "metadata": {
    "ExecuteTime": {
     "end_time": "2022-04-05T08:57:09.912608Z",
     "start_time": "2022-04-05T08:57:08.392309Z"
    },
    "id": "AXN7PHPN_Zcs"
   },
   "outputs": [],
   "source": [
    "import pandas as pd"
   ]
  },
  {
   "cell_type": "markdown",
   "metadata": {
    "id": "SG23P8tt_Zcs"
   },
   "source": [
    "Прочитайте файл `yandex_music_project.csv` из папки `/datasets` и сохраните его в переменной `df`:"
   ]
  },
  {
   "cell_type": "code",
   "execution_count": 2,
   "metadata": {
    "ExecuteTime": {
     "end_time": "2022-04-05T08:57:10.061935Z",
     "start_time": "2022-04-05T08:57:09.915138Z"
    },
    "id": "fFVu7vqh_Zct"
   },
   "outputs": [],
   "source": [
    "df = pd.read_csv('yandex_music_project.csv')"
   ]
  },
  {
   "cell_type": "markdown",
   "metadata": {
    "id": "rDoOMd3uTqnZ"
   },
   "source": [
    "Выведите на экран первые десять строк таблицы:"
   ]
  },
  {
   "cell_type": "code",
   "execution_count": 3,
   "metadata": {
    "ExecuteTime": {
     "end_time": "2022-04-05T08:57:10.081100Z",
     "start_time": "2022-04-05T08:57:10.064023Z"
    },
    "id": "oWTVX3gW_Zct"
   },
   "outputs": [
    {
     "data": {
      "text/html": [
       "<div>\n",
       "<style scoped>\n",
       "    .dataframe tbody tr th:only-of-type {\n",
       "        vertical-align: middle;\n",
       "    }\n",
       "\n",
       "    .dataframe tbody tr th {\n",
       "        vertical-align: top;\n",
       "    }\n",
       "\n",
       "    .dataframe thead th {\n",
       "        text-align: right;\n",
       "    }\n",
       "</style>\n",
       "<table border=\"1\" class=\"dataframe\">\n",
       "  <thead>\n",
       "    <tr style=\"text-align: right;\">\n",
       "      <th></th>\n",
       "      <th>userID</th>\n",
       "      <th>Track</th>\n",
       "      <th>artist</th>\n",
       "      <th>genre</th>\n",
       "      <th>City</th>\n",
       "      <th>time</th>\n",
       "      <th>Day</th>\n",
       "    </tr>\n",
       "  </thead>\n",
       "  <tbody>\n",
       "    <tr>\n",
       "      <th>0</th>\n",
       "      <td>FFB692EC</td>\n",
       "      <td>Kamigata To Boots</td>\n",
       "      <td>The Mass Missile</td>\n",
       "      <td>rock</td>\n",
       "      <td>Saint-Petersburg</td>\n",
       "      <td>20:28:33</td>\n",
       "      <td>Wednesday</td>\n",
       "    </tr>\n",
       "    <tr>\n",
       "      <th>1</th>\n",
       "      <td>55204538</td>\n",
       "      <td>Delayed Because of Accident</td>\n",
       "      <td>Andreas Rönnberg</td>\n",
       "      <td>rock</td>\n",
       "      <td>Moscow</td>\n",
       "      <td>14:07:09</td>\n",
       "      <td>Friday</td>\n",
       "    </tr>\n",
       "    <tr>\n",
       "      <th>2</th>\n",
       "      <td>20EC38</td>\n",
       "      <td>Funiculì funiculà</td>\n",
       "      <td>Mario Lanza</td>\n",
       "      <td>pop</td>\n",
       "      <td>Saint-Petersburg</td>\n",
       "      <td>20:58:07</td>\n",
       "      <td>Wednesday</td>\n",
       "    </tr>\n",
       "    <tr>\n",
       "      <th>3</th>\n",
       "      <td>A3DD03C9</td>\n",
       "      <td>Dragons in the Sunset</td>\n",
       "      <td>Fire + Ice</td>\n",
       "      <td>folk</td>\n",
       "      <td>Saint-Petersburg</td>\n",
       "      <td>08:37:09</td>\n",
       "      <td>Monday</td>\n",
       "    </tr>\n",
       "    <tr>\n",
       "      <th>4</th>\n",
       "      <td>E2DC1FAE</td>\n",
       "      <td>Soul People</td>\n",
       "      <td>Space Echo</td>\n",
       "      <td>dance</td>\n",
       "      <td>Moscow</td>\n",
       "      <td>08:34:34</td>\n",
       "      <td>Monday</td>\n",
       "    </tr>\n",
       "    <tr>\n",
       "      <th>5</th>\n",
       "      <td>842029A1</td>\n",
       "      <td>Преданная</td>\n",
       "      <td>IMPERVTOR</td>\n",
       "      <td>rusrap</td>\n",
       "      <td>Saint-Petersburg</td>\n",
       "      <td>13:09:41</td>\n",
       "      <td>Friday</td>\n",
       "    </tr>\n",
       "    <tr>\n",
       "      <th>6</th>\n",
       "      <td>4CB90AA5</td>\n",
       "      <td>True</td>\n",
       "      <td>Roman Messer</td>\n",
       "      <td>dance</td>\n",
       "      <td>Moscow</td>\n",
       "      <td>13:00:07</td>\n",
       "      <td>Wednesday</td>\n",
       "    </tr>\n",
       "    <tr>\n",
       "      <th>7</th>\n",
       "      <td>F03E1C1F</td>\n",
       "      <td>Feeling This Way</td>\n",
       "      <td>Polina Griffith</td>\n",
       "      <td>dance</td>\n",
       "      <td>Moscow</td>\n",
       "      <td>20:47:49</td>\n",
       "      <td>Wednesday</td>\n",
       "    </tr>\n",
       "    <tr>\n",
       "      <th>8</th>\n",
       "      <td>8FA1D3BE</td>\n",
       "      <td>И вновь продолжается бой</td>\n",
       "      <td>NaN</td>\n",
       "      <td>ruspop</td>\n",
       "      <td>Moscow</td>\n",
       "      <td>09:17:40</td>\n",
       "      <td>Friday</td>\n",
       "    </tr>\n",
       "    <tr>\n",
       "      <th>9</th>\n",
       "      <td>E772D5C0</td>\n",
       "      <td>Pessimist</td>\n",
       "      <td>NaN</td>\n",
       "      <td>dance</td>\n",
       "      <td>Saint-Petersburg</td>\n",
       "      <td>21:20:49</td>\n",
       "      <td>Wednesday</td>\n",
       "    </tr>\n",
       "  </tbody>\n",
       "</table>\n",
       "</div>"
      ],
      "text/plain": [
       "     userID                        Track            artist   genre  \\\n",
       "0  FFB692EC            Kamigata To Boots  The Mass Missile    rock   \n",
       "1  55204538  Delayed Because of Accident  Andreas Rönnberg    rock   \n",
       "2    20EC38            Funiculì funiculà       Mario Lanza     pop   \n",
       "3  A3DD03C9        Dragons in the Sunset        Fire + Ice    folk   \n",
       "4  E2DC1FAE                  Soul People        Space Echo   dance   \n",
       "5  842029A1                    Преданная         IMPERVTOR  rusrap   \n",
       "6  4CB90AA5                         True      Roman Messer   dance   \n",
       "7  F03E1C1F             Feeling This Way   Polina Griffith   dance   \n",
       "8  8FA1D3BE     И вновь продолжается бой               NaN  ruspop   \n",
       "9  E772D5C0                    Pessimist               NaN   dance   \n",
       "\n",
       "             City        time        Day  \n",
       "0  Saint-Petersburg  20:28:33  Wednesday  \n",
       "1            Moscow  14:07:09     Friday  \n",
       "2  Saint-Petersburg  20:58:07  Wednesday  \n",
       "3  Saint-Petersburg  08:37:09     Monday  \n",
       "4            Moscow  08:34:34     Monday  \n",
       "5  Saint-Petersburg  13:09:41     Friday  \n",
       "6            Moscow  13:00:07  Wednesday  \n",
       "7            Moscow  20:47:49  Wednesday  \n",
       "8            Moscow  09:17:40     Friday  \n",
       "9  Saint-Petersburg  21:20:49  Wednesday  "
      ]
     },
     "execution_count": 3,
     "metadata": {},
     "output_type": "execute_result"
    }
   ],
   "source": [
    "df.head(10)"
   ]
  },
  {
   "cell_type": "markdown",
   "metadata": {
    "id": "EO73Kwic_Zct"
   },
   "source": [
    "Одной командой получить общую информацию о таблице:"
   ]
  },
  {
   "cell_type": "code",
   "execution_count": 4,
   "metadata": {
    "ExecuteTime": {
     "end_time": "2022-04-05T08:57:10.119280Z",
     "start_time": "2022-04-05T08:57:10.082489Z"
    },
    "id": "DSf2kIb-_Zct",
    "scrolled": true
   },
   "outputs": [
    {
     "name": "stdout",
     "output_type": "stream",
     "text": [
      "<class 'pandas.core.frame.DataFrame'>\n",
      "RangeIndex: 65079 entries, 0 to 65078\n",
      "Data columns (total 7 columns):\n",
      " #   Column    Non-Null Count  Dtype \n",
      "---  ------    --------------  ----- \n",
      " 0     userID  65079 non-null  object\n",
      " 1   Track     63848 non-null  object\n",
      " 2   artist    57876 non-null  object\n",
      " 3   genre     63881 non-null  object\n",
      " 4     City    65079 non-null  object\n",
      " 5   time      65079 non-null  object\n",
      " 6   Day       65079 non-null  object\n",
      "dtypes: object(7)\n",
      "memory usage: 3.5+ MB\n"
     ]
    }
   ],
   "source": [
    "df.info()"
   ]
  },
  {
   "cell_type": "markdown",
   "metadata": {
    "id": "TaQ2Iwbr_Zct"
   },
   "source": [
    "Итак, в таблице семь столбцов. Тип данных во всех столбцах — `object`.\n",
    "\n",
    "Согласно документации к данным:\n",
    "* `userID` — идентификатор пользователя;\n",
    "* `Track` — название трека;  \n",
    "* `artist` — имя исполнителя;\n",
    "* `genre` — название жанра;\n",
    "* `City` — город пользователя;\n",
    "* `time` — время начала прослушивания;\n",
    "* `Day` — день недели.\n",
    "\n",
    "В названиях колонок видны три нарушения стиля:\n",
    "1. Строчные буквы сочетаются с прописными.\n",
    "2. Встречаются пробелы.\n",
    "3. Интуитивно не понятно значение колонок `time` и `Day`.\n",
    "\n",
    "\n",
    "\n",
    "Количество значений в столбцах различается. Значит, в данных есть пропущенные значения.\n"
   ]
  },
  {
   "cell_type": "markdown",
   "metadata": {
    "id": "MCB6-dXG_Zct"
   },
   "source": [
    "**Выводы**\n",
    "\n",
    "В каждой строке таблицы — данные о прослушанном треке. Часть колонок описывает саму композицию: название, исполнителя и жанр. Остальные данные рассказывают о пользователе: из какого он города, когда он слушал музыку. \n",
    "\n",
    "Предварительно можно утверждать, что, данных достаточно для проверки гипотез. Но встречаются пропуски в данных, а в названиях колонок — расхождения с хорошим стилем.\n",
    "\n",
    "Чтобы двигаться дальше, нужно устранить проблемы в данных."
   ]
  },
  {
   "cell_type": "markdown",
   "metadata": {
    "id": "SjYF6Ub9_Zct"
   },
   "source": [
    "## Предобработка данных\n",
    "Исправьте стиль в заголовках столбцов, исключите пропуски. Затем проверьте данные на дубликаты."
   ]
  },
  {
   "cell_type": "markdown",
   "metadata": {
    "id": "dIaKXr29_Zct"
   },
   "source": [
    "### Стиль заголовков\n",
    "Выведите на экран названия столбцов:"
   ]
  },
  {
   "cell_type": "code",
   "execution_count": 5,
   "metadata": {
    "ExecuteTime": {
     "end_time": "2022-04-05T08:57:10.123774Z",
     "start_time": "2022-04-05T08:57:10.120630Z"
    },
    "id": "oKOTdF_Q_Zct"
   },
   "outputs": [
    {
     "data": {
      "text/plain": [
       "Index(['  userID', 'Track', 'artist', 'genre', '  City  ', 'time', 'Day'], dtype='object')"
      ]
     },
     "execution_count": 5,
     "metadata": {},
     "output_type": "execute_result"
    }
   ],
   "source": [
    "df.columns"
   ]
  },
  {
   "cell_type": "markdown",
   "metadata": {
    "id": "zj5534cv_Zct"
   },
   "source": [
    "Приведите названия в соответствие с хорошим стилем:\n",
    "* несколько слов в названии запишите в «змеином_регистре»,\n",
    "* все символы сделайте строчными,\n",
    "* устраните пробелы.\n",
    "\n",
    "Для этого переименуйте колонки так:\n",
    "* `'  userID'` → `'user_id'`;\n",
    "* `'Track'` → `'track'`;\n",
    "* `'  City  '` → `'city'`;\n",
    "* `'Day'` → `'day'`."
   ]
  },
  {
   "cell_type": "code",
   "execution_count": 6,
   "metadata": {
    "ExecuteTime": {
     "end_time": "2022-04-05T08:57:10.129931Z",
     "start_time": "2022-04-05T08:57:10.124736Z"
    },
    "id": "ISlFqs5y_Zct"
   },
   "outputs": [],
   "source": [
    "df = df.rename(columns={\n",
    "    '  userID' : 'user_id',\n",
    "    'Track'    : 'track',\n",
    "    '  City  ' : 'city',\n",
    "    'time'     : 'start_time',\n",
    "    'Day'      : 'weekday'\n",
    "})"
   ]
  },
  {
   "cell_type": "markdown",
   "metadata": {
    "id": "1dqbh00J_Zct"
   },
   "source": [
    "Проверьте результат. Для этого ещё раз выведите на экран названия столбцов:"
   ]
  },
  {
   "cell_type": "code",
   "execution_count": 7,
   "metadata": {
    "ExecuteTime": {
     "end_time": "2022-04-05T08:57:10.134380Z",
     "start_time": "2022-04-05T08:57:10.131077Z"
    },
    "id": "d4NOAmTW_Zct"
   },
   "outputs": [
    {
     "data": {
      "text/plain": [
       "Index(['user_id', 'track', 'artist', 'genre', 'city', 'start_time', 'weekday'], dtype='object')"
      ]
     },
     "execution_count": 7,
     "metadata": {},
     "output_type": "execute_result"
    }
   ],
   "source": [
    "df.columns"
   ]
  },
  {
   "cell_type": "markdown",
   "metadata": {
    "id": "5ISfbcfY_Zct"
   },
   "source": [
    "### Пропуски значений\n",
    "Сначала посчитайте, сколько в таблице пропущенных значений. Для этого достаточно двух методов `pandas`:"
   ]
  },
  {
   "cell_type": "code",
   "execution_count": 8,
   "metadata": {
    "ExecuteTime": {
     "end_time": "2022-04-05T08:57:10.167853Z",
     "start_time": "2022-04-05T08:57:10.137420Z"
    },
    "id": "RskX29qr_Zct"
   },
   "outputs": [
    {
     "data": {
      "text/plain": [
       "user_id          0\n",
       "track         1231\n",
       "artist        7203\n",
       "genre         1198\n",
       "city             0\n",
       "start_time       0\n",
       "weekday          0\n",
       "dtype: int64"
      ]
     },
     "execution_count": 8,
     "metadata": {},
     "output_type": "execute_result"
    }
   ],
   "source": [
    "df.isna().sum()"
   ]
  },
  {
   "cell_type": "markdown",
   "metadata": {
    "id": "qubhgnlO_Zct"
   },
   "source": [
    "Не все пропущенные значения влияют на исследование. Так в `track` и `artist` пропуски не важны для вашей работы. Достаточно заменить их явными обозначениями.\n",
    "\n",
    "Но пропуски в `genre` могут помешать сравнению музыкальных вкусов в Москве и Санкт-Петербурге. На практике было бы правильно установить причину пропусков и восстановить данные. Такой возможности нет в учебном проекте. Придётся:\n",
    "* заполнить и эти пропуски явными обозначениями,\n",
    "* оценить, насколько они повредят расчётам. "
   ]
  },
  {
   "cell_type": "markdown",
   "metadata": {
    "id": "fSv2laPA_Zct"
   },
   "source": [
    "Замените пропущенные значения в столбцах `track`, `artist` и `genre` на строку `'unknown'`. Для этого создайте список `columns_to_replace`, переберите его элементы циклом `for` и для каждого столбца выполните замену пропущенных значений:"
   ]
  },
  {
   "cell_type": "code",
   "execution_count": 9,
   "metadata": {
    "ExecuteTime": {
     "end_time": "2022-04-05T08:57:10.187649Z",
     "start_time": "2022-04-05T08:57:10.169145Z"
    },
    "id": "KplB5qWs_Zct"
   },
   "outputs": [],
   "source": [
    "columns_to_replace = ['track', 'artist', 'genre']\n",
    "\n",
    "for col in columns_to_replace:\n",
    "    df[col] = df[col].fillna('unknown')"
   ]
  },
  {
   "cell_type": "markdown",
   "metadata": {
    "id": "Ilsm-MZo_Zct"
   },
   "source": [
    "Убедитесь, что в таблице не осталось пропусков. Для этого ещё раз посчитайте пропущенные значения."
   ]
  },
  {
   "cell_type": "code",
   "execution_count": 10,
   "metadata": {
    "ExecuteTime": {
     "end_time": "2022-04-05T08:57:10.218837Z",
     "start_time": "2022-04-05T08:57:10.188679Z"
    },
    "id": "Tq4nYRX4_Zct"
   },
   "outputs": [
    {
     "data": {
      "text/plain": [
       "user_id       0\n",
       "track         0\n",
       "artist        0\n",
       "genre         0\n",
       "city          0\n",
       "start_time    0\n",
       "weekday       0\n",
       "dtype: int64"
      ]
     },
     "execution_count": 10,
     "metadata": {},
     "output_type": "execute_result"
    }
   ],
   "source": [
    "df.isna().sum()"
   ]
  },
  {
   "cell_type": "markdown",
   "metadata": {
    "id": "BWKRtBJ3_Zct"
   },
   "source": [
    "### Дубликаты\n",
    "Посчитайте явные дубликаты в таблице одной командой:"
   ]
  },
  {
   "cell_type": "code",
   "execution_count": 11,
   "metadata": {
    "ExecuteTime": {
     "end_time": "2022-04-05T08:57:10.279084Z",
     "start_time": "2022-04-05T08:57:10.219936Z"
    },
    "id": "36eES_S0_Zct"
   },
   "outputs": [
    {
     "data": {
      "text/plain": [
       "3826"
      ]
     },
     "execution_count": 11,
     "metadata": {},
     "output_type": "execute_result"
    }
   ],
   "source": [
    "df.duplicated().sum()"
   ]
  },
  {
   "cell_type": "markdown",
   "metadata": {
    "id": "Ot25h6XR_Zct"
   },
   "source": [
    "Вызовите специальный метод `pandas`, чтобы удалить явные дубликаты:"
   ]
  },
  {
   "cell_type": "code",
   "execution_count": 12,
   "metadata": {
    "ExecuteTime": {
     "end_time": "2022-04-05T08:57:10.341010Z",
     "start_time": "2022-04-05T08:57:10.280310Z"
    },
    "id": "exFHq6tt_Zct"
   },
   "outputs": [],
   "source": [
    "df = df.drop_duplicates().reset_index(drop=True)"
   ]
  },
  {
   "cell_type": "markdown",
   "metadata": {
    "id": "Im2YwBEG_Zct"
   },
   "source": [
    "Ещё раз посчитайте явные дубликаты в таблице — убедитесь, что полностью от них избавились:"
   ]
  },
  {
   "cell_type": "code",
   "execution_count": 13,
   "metadata": {
    "ExecuteTime": {
     "end_time": "2022-04-05T08:57:10.396616Z",
     "start_time": "2022-04-05T08:57:10.342086Z"
    },
    "id": "-8PuNWQ0_Zct"
   },
   "outputs": [
    {
     "data": {
      "text/plain": [
       "0"
      ]
     },
     "execution_count": 13,
     "metadata": {},
     "output_type": "execute_result"
    }
   ],
   "source": [
    "df.duplicated().sum()"
   ]
  },
  {
   "cell_type": "markdown",
   "metadata": {
    "id": "QlFBsxAr_Zct"
   },
   "source": [
    "Теперь избавьтесь от неявных дубликатов в колонке `genre`. Например, название одного и того же жанра может быть записано немного по-разному. Такие ошибки тоже повлияют на результат исследования."
   ]
  },
  {
   "cell_type": "markdown",
   "metadata": {
    "id": "eSjWwsOh_Zct"
   },
   "source": [
    "Выведите на экран список уникальных названий жанров, отсортированный в алфавитном порядке. Для этого:\n",
    "* извлеките нужный столбец датафрейма, \n",
    "* примените к нему метод сортировки,\n",
    "* для отсортированного столбца вызовите метод, который вернёт уникальные значения из столбца."
   ]
  },
  {
   "cell_type": "code",
   "execution_count": 14,
   "metadata": {
    "ExecuteTime": {
     "end_time": "2022-04-05T08:57:10.409073Z",
     "start_time": "2022-04-05T08:57:10.397920Z"
    },
    "id": "JIUcqzZN_Zct"
   },
   "outputs": [
    {
     "data": {
      "text/plain": [
       "['acid',\n",
       " 'acoustic',\n",
       " 'action',\n",
       " 'adult',\n",
       " 'africa',\n",
       " 'afrikaans',\n",
       " 'alternative',\n",
       " 'alternativepunk',\n",
       " 'ambient',\n",
       " 'americana',\n",
       " 'animated',\n",
       " 'anime',\n",
       " 'arabesk',\n",
       " 'arabic',\n",
       " 'arena',\n",
       " 'argentinetango',\n",
       " 'art',\n",
       " 'audiobook',\n",
       " 'author',\n",
       " 'avantgarde',\n",
       " 'axé',\n",
       " 'baile',\n",
       " 'balkan',\n",
       " 'beats',\n",
       " 'bigroom',\n",
       " 'black',\n",
       " 'bluegrass',\n",
       " 'blues',\n",
       " 'bollywood',\n",
       " 'bossa',\n",
       " 'brazilian',\n",
       " 'breakbeat',\n",
       " 'breaks',\n",
       " 'broadway',\n",
       " 'cantautori',\n",
       " 'cantopop',\n",
       " 'canzone',\n",
       " 'caribbean',\n",
       " 'caucasian',\n",
       " 'celtic',\n",
       " 'chamber',\n",
       " 'chanson',\n",
       " 'children',\n",
       " 'chill',\n",
       " 'chinese',\n",
       " 'choral',\n",
       " 'christian',\n",
       " 'christmas',\n",
       " 'classical',\n",
       " 'classicmetal',\n",
       " 'club',\n",
       " 'colombian',\n",
       " 'comedy',\n",
       " 'conjazz',\n",
       " 'contemporary',\n",
       " 'country',\n",
       " 'cuban',\n",
       " 'dance',\n",
       " 'dancehall',\n",
       " 'dancepop',\n",
       " 'dark',\n",
       " 'death',\n",
       " 'deep',\n",
       " 'deutschrock',\n",
       " 'deutschspr',\n",
       " 'dirty',\n",
       " 'disco',\n",
       " 'dnb',\n",
       " 'documentary',\n",
       " 'downbeat',\n",
       " 'downtempo',\n",
       " 'drum',\n",
       " 'dub',\n",
       " 'dubstep',\n",
       " 'eastern',\n",
       " 'easy',\n",
       " 'electronic',\n",
       " 'electropop',\n",
       " 'emo',\n",
       " 'entehno',\n",
       " 'epicmetal',\n",
       " 'estrada',\n",
       " 'ethnic',\n",
       " 'eurofolk',\n",
       " 'european',\n",
       " 'experimental',\n",
       " 'extrememetal',\n",
       " 'fado',\n",
       " 'fairytail',\n",
       " 'film',\n",
       " 'fitness',\n",
       " 'flamenco',\n",
       " 'folk',\n",
       " 'folklore',\n",
       " 'folkmetal',\n",
       " 'folkrock',\n",
       " 'folktronica',\n",
       " 'forró',\n",
       " 'frankreich',\n",
       " 'französisch',\n",
       " 'french',\n",
       " 'funk',\n",
       " 'future',\n",
       " 'gangsta',\n",
       " 'garage',\n",
       " 'german',\n",
       " 'ghazal',\n",
       " 'gitarre',\n",
       " 'glitch',\n",
       " 'gospel',\n",
       " 'gothic',\n",
       " 'grime',\n",
       " 'grunge',\n",
       " 'gypsy',\n",
       " 'handsup',\n",
       " \"hard'n'heavy\",\n",
       " 'hardcore',\n",
       " 'hardstyle',\n",
       " 'hardtechno',\n",
       " 'hip',\n",
       " 'hip-hop',\n",
       " 'hiphop',\n",
       " 'historisch',\n",
       " 'holiday',\n",
       " 'hop',\n",
       " 'horror',\n",
       " 'house',\n",
       " 'hymn',\n",
       " 'idm',\n",
       " 'independent',\n",
       " 'indian',\n",
       " 'indie',\n",
       " 'indipop',\n",
       " 'industrial',\n",
       " 'inspirational',\n",
       " 'instrumental',\n",
       " 'international',\n",
       " 'irish',\n",
       " 'jam',\n",
       " 'japanese',\n",
       " 'jazz',\n",
       " 'jewish',\n",
       " 'jpop',\n",
       " 'jungle',\n",
       " 'k-pop',\n",
       " 'karadeniz',\n",
       " 'karaoke',\n",
       " 'kayokyoku',\n",
       " 'korean',\n",
       " 'laiko',\n",
       " 'latin',\n",
       " 'latino',\n",
       " 'leftfield',\n",
       " 'local',\n",
       " 'lounge',\n",
       " 'loungeelectronic',\n",
       " 'lovers',\n",
       " 'malaysian',\n",
       " 'mandopop',\n",
       " 'marschmusik',\n",
       " 'meditative',\n",
       " 'mediterranean',\n",
       " 'melodic',\n",
       " 'metal',\n",
       " 'metalcore',\n",
       " 'mexican',\n",
       " 'middle',\n",
       " 'minimal',\n",
       " 'miscellaneous',\n",
       " 'modern',\n",
       " 'mood',\n",
       " 'mpb',\n",
       " 'muslim',\n",
       " 'native',\n",
       " 'neoklassik',\n",
       " 'neue',\n",
       " 'new',\n",
       " 'newage',\n",
       " 'newwave',\n",
       " 'nu',\n",
       " 'nujazz',\n",
       " 'numetal',\n",
       " 'oceania',\n",
       " 'old',\n",
       " 'opera',\n",
       " 'orchestral',\n",
       " 'other',\n",
       " 'piano',\n",
       " 'podcasts',\n",
       " 'pop',\n",
       " 'popdance',\n",
       " 'popelectronic',\n",
       " 'popeurodance',\n",
       " 'poprussian',\n",
       " 'post',\n",
       " 'posthardcore',\n",
       " 'postrock',\n",
       " 'power',\n",
       " 'progmetal',\n",
       " 'progressive',\n",
       " 'psychedelic',\n",
       " 'punjabi',\n",
       " 'punk',\n",
       " 'quebecois',\n",
       " 'ragga',\n",
       " 'ram',\n",
       " 'rancheras',\n",
       " 'rap',\n",
       " 'rave',\n",
       " 'reggae',\n",
       " 'reggaeton',\n",
       " 'regional',\n",
       " 'relax',\n",
       " 'religious',\n",
       " 'retro',\n",
       " 'rhythm',\n",
       " 'rnb',\n",
       " 'rnr',\n",
       " 'rock',\n",
       " 'rockabilly',\n",
       " 'rockalternative',\n",
       " 'rockindie',\n",
       " 'rockother',\n",
       " 'romance',\n",
       " 'roots',\n",
       " 'ruspop',\n",
       " 'rusrap',\n",
       " 'rusrock',\n",
       " 'russian',\n",
       " 'salsa',\n",
       " 'samba',\n",
       " 'scenic',\n",
       " 'schlager',\n",
       " 'self',\n",
       " 'sertanejo',\n",
       " 'shanson',\n",
       " 'shoegazing',\n",
       " 'showtunes',\n",
       " 'singer',\n",
       " 'ska',\n",
       " 'skarock',\n",
       " 'slow',\n",
       " 'smooth',\n",
       " 'soft',\n",
       " 'soul',\n",
       " 'soulful',\n",
       " 'sound',\n",
       " 'soundtrack',\n",
       " 'southern',\n",
       " 'specialty',\n",
       " 'speech',\n",
       " 'spiritual',\n",
       " 'sport',\n",
       " 'stonerrock',\n",
       " 'surf',\n",
       " 'swing',\n",
       " 'synthpop',\n",
       " 'synthrock',\n",
       " 'sängerportrait',\n",
       " 'tango',\n",
       " 'tanzorchester',\n",
       " 'taraftar',\n",
       " 'tatar',\n",
       " 'tech',\n",
       " 'techno',\n",
       " 'teen',\n",
       " 'thrash',\n",
       " 'top',\n",
       " 'traditional',\n",
       " 'tradjazz',\n",
       " 'trance',\n",
       " 'tribal',\n",
       " 'trip',\n",
       " 'triphop',\n",
       " 'tropical',\n",
       " 'türk',\n",
       " 'türkçe',\n",
       " 'ukrrock',\n",
       " 'unknown',\n",
       " 'urban',\n",
       " 'uzbek',\n",
       " 'variété',\n",
       " 'vi',\n",
       " 'videogame',\n",
       " 'vocal',\n",
       " 'western',\n",
       " 'world',\n",
       " 'worldbeat',\n",
       " 'ïîï',\n",
       " 'электроника']"
      ]
     },
     "execution_count": 14,
     "metadata": {},
     "output_type": "execute_result"
    }
   ],
   "source": [
    "sorted(df['genre'].unique())"
   ]
  },
  {
   "cell_type": "markdown",
   "metadata": {
    "id": "qej-Qmuo_Zct"
   },
   "source": [
    "Просмотрите список и найдите неявные дубликаты названия `hiphop`. Это могут быть названия с ошибками или альтернативные названия того же жанра.\n",
    "\n",
    "Вы увидите следующие неявные дубликаты:\n",
    "* *hip*,\n",
    "* *hop*,\n",
    "* *hip-hop*.\n",
    "\n",
    "Чтобы очистить от них таблицу, напишите функцию `replace_wrong_genres()` с двумя параметрами: \n",
    "* `wrong_genres` — список дубликатов,\n",
    "* `correct_genre` — строка с правильным значением.\n",
    "\n",
    "Функция должна исправить колонку `genre` в таблице `df`: заменить каждое значение из списка `wrong_genres` на значение из `correct_genre`."
   ]
  },
  {
   "cell_type": "code",
   "execution_count": 15,
   "metadata": {
    "ExecuteTime": {
     "end_time": "2022-04-05T08:57:10.412872Z",
     "start_time": "2022-04-05T08:57:10.410402Z"
    },
    "id": "ErNDkmns_Zct"
   },
   "outputs": [],
   "source": [
    "def replace_wrong_genres(wrong_genres, correct_genre):\n",
    "    for genre in wrong_genres:\n",
    "        df['genre'] = df['genre'].replace(genre, correct_genre)"
   ]
  },
  {
   "cell_type": "markdown",
   "metadata": {
    "id": "aDoBJxbA_Zct"
   },
   "source": [
    "Вызовите `replace_wrong_genres()` и передайте ей такие аргументы, чтобы она устранила неявные дубликаты: вместо `hip`, `hop` и `hip-hop` в таблице должно быть значение `hiphop`:"
   ]
  },
  {
   "cell_type": "code",
   "execution_count": 16,
   "metadata": {
    "ExecuteTime": {
     "end_time": "2022-04-05T08:57:10.426313Z",
     "start_time": "2022-04-05T08:57:10.414017Z"
    },
    "id": "YN5i2hpmSo09"
   },
   "outputs": [],
   "source": [
    "replace_wrong_genres(['hip', 'hop', 'hip-hop'], 'hiphop')\n",
    "replace_wrong_genres(['электроника'], 'electronic')"
   ]
  },
  {
   "cell_type": "markdown",
   "metadata": {
    "id": "zQKF16_RG15m"
   },
   "source": [
    "Проверьте, что заменили неправильные названия:\n",
    "\n",
    "*   hip\n",
    "*   hop\n",
    "*   hip-hop\n",
    "\n",
    "Выведите отсортированный список уникальных значений столбца `genre`:"
   ]
  },
  {
   "cell_type": "code",
   "execution_count": 17,
   "metadata": {
    "ExecuteTime": {
     "end_time": "2022-04-05T08:57:10.438136Z",
     "start_time": "2022-04-05T08:57:10.427439Z"
    },
    "id": "wvixALnFG15m"
   },
   "outputs": [
    {
     "data": {
      "text/plain": [
       "['acid',\n",
       " 'acoustic',\n",
       " 'action',\n",
       " 'adult',\n",
       " 'africa',\n",
       " 'afrikaans',\n",
       " 'alternative',\n",
       " 'alternativepunk',\n",
       " 'ambient',\n",
       " 'americana',\n",
       " 'animated',\n",
       " 'anime',\n",
       " 'arabesk',\n",
       " 'arabic',\n",
       " 'arena',\n",
       " 'argentinetango',\n",
       " 'art',\n",
       " 'audiobook',\n",
       " 'author',\n",
       " 'avantgarde',\n",
       " 'axé',\n",
       " 'baile',\n",
       " 'balkan',\n",
       " 'beats',\n",
       " 'bigroom',\n",
       " 'black',\n",
       " 'bluegrass',\n",
       " 'blues',\n",
       " 'bollywood',\n",
       " 'bossa',\n",
       " 'brazilian',\n",
       " 'breakbeat',\n",
       " 'breaks',\n",
       " 'broadway',\n",
       " 'cantautori',\n",
       " 'cantopop',\n",
       " 'canzone',\n",
       " 'caribbean',\n",
       " 'caucasian',\n",
       " 'celtic',\n",
       " 'chamber',\n",
       " 'chanson',\n",
       " 'children',\n",
       " 'chill',\n",
       " 'chinese',\n",
       " 'choral',\n",
       " 'christian',\n",
       " 'christmas',\n",
       " 'classical',\n",
       " 'classicmetal',\n",
       " 'club',\n",
       " 'colombian',\n",
       " 'comedy',\n",
       " 'conjazz',\n",
       " 'contemporary',\n",
       " 'country',\n",
       " 'cuban',\n",
       " 'dance',\n",
       " 'dancehall',\n",
       " 'dancepop',\n",
       " 'dark',\n",
       " 'death',\n",
       " 'deep',\n",
       " 'deutschrock',\n",
       " 'deutschspr',\n",
       " 'dirty',\n",
       " 'disco',\n",
       " 'dnb',\n",
       " 'documentary',\n",
       " 'downbeat',\n",
       " 'downtempo',\n",
       " 'drum',\n",
       " 'dub',\n",
       " 'dubstep',\n",
       " 'eastern',\n",
       " 'easy',\n",
       " 'electronic',\n",
       " 'electropop',\n",
       " 'emo',\n",
       " 'entehno',\n",
       " 'epicmetal',\n",
       " 'estrada',\n",
       " 'ethnic',\n",
       " 'eurofolk',\n",
       " 'european',\n",
       " 'experimental',\n",
       " 'extrememetal',\n",
       " 'fado',\n",
       " 'fairytail',\n",
       " 'film',\n",
       " 'fitness',\n",
       " 'flamenco',\n",
       " 'folk',\n",
       " 'folklore',\n",
       " 'folkmetal',\n",
       " 'folkrock',\n",
       " 'folktronica',\n",
       " 'forró',\n",
       " 'frankreich',\n",
       " 'französisch',\n",
       " 'french',\n",
       " 'funk',\n",
       " 'future',\n",
       " 'gangsta',\n",
       " 'garage',\n",
       " 'german',\n",
       " 'ghazal',\n",
       " 'gitarre',\n",
       " 'glitch',\n",
       " 'gospel',\n",
       " 'gothic',\n",
       " 'grime',\n",
       " 'grunge',\n",
       " 'gypsy',\n",
       " 'handsup',\n",
       " \"hard'n'heavy\",\n",
       " 'hardcore',\n",
       " 'hardstyle',\n",
       " 'hardtechno',\n",
       " 'hiphop',\n",
       " 'historisch',\n",
       " 'holiday',\n",
       " 'horror',\n",
       " 'house',\n",
       " 'hymn',\n",
       " 'idm',\n",
       " 'independent',\n",
       " 'indian',\n",
       " 'indie',\n",
       " 'indipop',\n",
       " 'industrial',\n",
       " 'inspirational',\n",
       " 'instrumental',\n",
       " 'international',\n",
       " 'irish',\n",
       " 'jam',\n",
       " 'japanese',\n",
       " 'jazz',\n",
       " 'jewish',\n",
       " 'jpop',\n",
       " 'jungle',\n",
       " 'k-pop',\n",
       " 'karadeniz',\n",
       " 'karaoke',\n",
       " 'kayokyoku',\n",
       " 'korean',\n",
       " 'laiko',\n",
       " 'latin',\n",
       " 'latino',\n",
       " 'leftfield',\n",
       " 'local',\n",
       " 'lounge',\n",
       " 'loungeelectronic',\n",
       " 'lovers',\n",
       " 'malaysian',\n",
       " 'mandopop',\n",
       " 'marschmusik',\n",
       " 'meditative',\n",
       " 'mediterranean',\n",
       " 'melodic',\n",
       " 'metal',\n",
       " 'metalcore',\n",
       " 'mexican',\n",
       " 'middle',\n",
       " 'minimal',\n",
       " 'miscellaneous',\n",
       " 'modern',\n",
       " 'mood',\n",
       " 'mpb',\n",
       " 'muslim',\n",
       " 'native',\n",
       " 'neoklassik',\n",
       " 'neue',\n",
       " 'new',\n",
       " 'newage',\n",
       " 'newwave',\n",
       " 'nu',\n",
       " 'nujazz',\n",
       " 'numetal',\n",
       " 'oceania',\n",
       " 'old',\n",
       " 'opera',\n",
       " 'orchestral',\n",
       " 'other',\n",
       " 'piano',\n",
       " 'podcasts',\n",
       " 'pop',\n",
       " 'popdance',\n",
       " 'popelectronic',\n",
       " 'popeurodance',\n",
       " 'poprussian',\n",
       " 'post',\n",
       " 'posthardcore',\n",
       " 'postrock',\n",
       " 'power',\n",
       " 'progmetal',\n",
       " 'progressive',\n",
       " 'psychedelic',\n",
       " 'punjabi',\n",
       " 'punk',\n",
       " 'quebecois',\n",
       " 'ragga',\n",
       " 'ram',\n",
       " 'rancheras',\n",
       " 'rap',\n",
       " 'rave',\n",
       " 'reggae',\n",
       " 'reggaeton',\n",
       " 'regional',\n",
       " 'relax',\n",
       " 'religious',\n",
       " 'retro',\n",
       " 'rhythm',\n",
       " 'rnb',\n",
       " 'rnr',\n",
       " 'rock',\n",
       " 'rockabilly',\n",
       " 'rockalternative',\n",
       " 'rockindie',\n",
       " 'rockother',\n",
       " 'romance',\n",
       " 'roots',\n",
       " 'ruspop',\n",
       " 'rusrap',\n",
       " 'rusrock',\n",
       " 'russian',\n",
       " 'salsa',\n",
       " 'samba',\n",
       " 'scenic',\n",
       " 'schlager',\n",
       " 'self',\n",
       " 'sertanejo',\n",
       " 'shanson',\n",
       " 'shoegazing',\n",
       " 'showtunes',\n",
       " 'singer',\n",
       " 'ska',\n",
       " 'skarock',\n",
       " 'slow',\n",
       " 'smooth',\n",
       " 'soft',\n",
       " 'soul',\n",
       " 'soulful',\n",
       " 'sound',\n",
       " 'soundtrack',\n",
       " 'southern',\n",
       " 'specialty',\n",
       " 'speech',\n",
       " 'spiritual',\n",
       " 'sport',\n",
       " 'stonerrock',\n",
       " 'surf',\n",
       " 'swing',\n",
       " 'synthpop',\n",
       " 'synthrock',\n",
       " 'sängerportrait',\n",
       " 'tango',\n",
       " 'tanzorchester',\n",
       " 'taraftar',\n",
       " 'tatar',\n",
       " 'tech',\n",
       " 'techno',\n",
       " 'teen',\n",
       " 'thrash',\n",
       " 'top',\n",
       " 'traditional',\n",
       " 'tradjazz',\n",
       " 'trance',\n",
       " 'tribal',\n",
       " 'trip',\n",
       " 'triphop',\n",
       " 'tropical',\n",
       " 'türk',\n",
       " 'türkçe',\n",
       " 'ukrrock',\n",
       " 'unknown',\n",
       " 'urban',\n",
       " 'uzbek',\n",
       " 'variété',\n",
       " 'vi',\n",
       " 'videogame',\n",
       " 'vocal',\n",
       " 'western',\n",
       " 'world',\n",
       " 'worldbeat',\n",
       " 'ïîï']"
      ]
     },
     "execution_count": 17,
     "metadata": {},
     "output_type": "execute_result"
    }
   ],
   "source": [
    "sorted(df['genre'].unique())"
   ]
  },
  {
   "cell_type": "markdown",
   "metadata": {
    "id": "jz6a9-7HQUDd"
   },
   "source": [
    "**Выводы**\n",
    "\n",
    "Предобработка обнаружила три проблемы в данных:\n",
    "\n",
    "- нарушения в стиле заголовков,\n",
    "- пропущенные значения,\n",
    "- дубликаты — явные и неявные.\n",
    "\n",
    "Вы исправили заголовки, чтобы упростить работу с таблицей. Без дубликатов исследование станет более точным.\n",
    "\n",
    "Пропущенные значения вы заменили на `'unknown'`. Ещё предстоит увидеть, не повредят ли исследованию пропуски в колонке `genre`.\n",
    "\n",
    "Теперь можно перейти к проверке гипотез. "
   ]
  },
  {
   "cell_type": "markdown",
   "metadata": {
    "id": "WttZHXH0SqKk"
   },
   "source": [
    "## Проверка гипотез"
   ]
  },
  {
   "cell_type": "markdown",
   "metadata": {
    "id": "Im936VVi_Zcu"
   },
   "source": [
    "### Сравнение поведения пользователей двух столиц"
   ]
  },
  {
   "cell_type": "markdown",
   "metadata": {
    "id": "nwt_MuaL_Zcu"
   },
   "source": [
    "Первая гипотеза утверждает, что пользователи по-разному слушают музыку в Москве и Санкт-Петербурге. Проверьте это предположение по данным о трёх днях недели — понедельнике, среде и пятнице. Для этого:\n",
    "\n",
    "* Разделите пользователей Москвы и Санкт-Петербурга\n",
    "* Сравните, сколько треков послушала каждая группа пользователей в понедельник, среду и пятницу.\n"
   ]
  },
  {
   "cell_type": "markdown",
   "metadata": {
    "id": "8Dw_YMmT_Zcu"
   },
   "source": [
    "Для тренировки сначала выполните каждый из расчётов по отдельности. \n",
    "\n",
    "Оцените активность пользователей в каждом городе. Сгруппируйте данные по городу и посчитайте прослушивания в каждой группе."
   ]
  },
  {
   "cell_type": "code",
   "execution_count": 18,
   "metadata": {
    "ExecuteTime": {
     "end_time": "2022-04-05T08:57:10.452893Z",
     "start_time": "2022-04-05T08:57:10.439486Z"
    },
    "id": "0_Qs96oh_Zcu"
   },
   "outputs": [
    {
     "data": {
      "text/plain": [
       "city\n",
       "Moscow              42741\n",
       "Saint-Petersburg    18512\n",
       "Name: city, dtype: int64"
      ]
     },
     "execution_count": 18,
     "metadata": {},
     "output_type": "execute_result"
    }
   ],
   "source": [
    "df.groupby('city')['city'].count()"
   ]
  },
  {
   "cell_type": "markdown",
   "metadata": {
    "id": "dzli3w8o_Zcu"
   },
   "source": [
    "В Москве прослушиваний больше, чем в Петербурге. Из этого не следует, что московские пользователи чаще слушают музыку. Просто самих пользователей в Москве больше.\n",
    "\n",
    "Теперь сгруппируйте данные по дню недели и подсчитайте прослушивания в понедельник, среду и пятницу. Учтите, что в данных есть информация только о прослушиваниях только за эти дни.\n"
   ]
  },
  {
   "cell_type": "code",
   "execution_count": 19,
   "metadata": {
    "ExecuteTime": {
     "end_time": "2022-04-05T08:57:10.467017Z",
     "start_time": "2022-04-05T08:57:10.454498Z"
    },
    "id": "uZMKjiJz_Zcu"
   },
   "outputs": [
    {
     "data": {
      "text/plain": [
       "weekday\n",
       "Friday       21840\n",
       "Monday       21354\n",
       "Wednesday    18059\n",
       "Name: user_id, dtype: int64"
      ]
     },
     "execution_count": 19,
     "metadata": {},
     "output_type": "execute_result"
    }
   ],
   "source": [
    "df.groupby('weekday')['user_id'].count()"
   ]
  },
  {
   "cell_type": "code",
   "execution_count": 20,
   "metadata": {
    "ExecuteTime": {
     "end_time": "2022-04-05T08:57:10.483366Z",
     "start_time": "2022-04-05T08:57:10.468445Z"
    }
   },
   "outputs": [
    {
     "data": {
      "text/html": [
       "<div>\n",
       "<style scoped>\n",
       "    .dataframe tbody tr th:only-of-type {\n",
       "        vertical-align: middle;\n",
       "    }\n",
       "\n",
       "    .dataframe tbody tr th {\n",
       "        vertical-align: top;\n",
       "    }\n",
       "\n",
       "    .dataframe thead th {\n",
       "        text-align: right;\n",
       "    }\n",
       "</style>\n",
       "<table border=\"1\" class=\"dataframe\">\n",
       "  <thead>\n",
       "    <tr style=\"text-align: right;\">\n",
       "      <th></th>\n",
       "      <th>user_id</th>\n",
       "    </tr>\n",
       "    <tr>\n",
       "      <th>weekday</th>\n",
       "      <th></th>\n",
       "    </tr>\n",
       "  </thead>\n",
       "  <tbody>\n",
       "    <tr>\n",
       "      <th>Friday</th>\n",
       "      <td>21840</td>\n",
       "    </tr>\n",
       "    <tr>\n",
       "      <th>Monday</th>\n",
       "      <td>21354</td>\n",
       "    </tr>\n",
       "    <tr>\n",
       "      <th>Wednesday</th>\n",
       "      <td>18059</td>\n",
       "    </tr>\n",
       "  </tbody>\n",
       "</table>\n",
       "</div>"
      ],
      "text/plain": [
       "           user_id\n",
       "weekday           \n",
       "Friday       21840\n",
       "Monday       21354\n",
       "Wednesday    18059"
      ]
     },
     "execution_count": 20,
     "metadata": {},
     "output_type": "execute_result"
    }
   ],
   "source": [
    "# КОД РЕВЬЮЕРА\n",
    "\n",
    "df.groupby('weekday')[['user_id']].count()"
   ]
  },
  {
   "cell_type": "markdown",
   "metadata": {
    "id": "cC2tNrlL_Zcu"
   },
   "source": [
    "В среднем пользователи из двух городов менее активны по средам. Но картина может измениться, если рассмотреть каждый город в отдельности."
   ]
  },
  {
   "cell_type": "markdown",
   "metadata": {
    "id": "POzs8bGa_Zcu"
   },
   "source": [
    "Вы видели, как работает группировка по городу и по дням недели. Теперь напишите функцию, которая объединит два эти расчёта.\n",
    "\n",
    "Создайте функцию `number_tracks()`, которая посчитает прослушивания для заданного дня и города. Ей понадобятся два параметра:\n",
    "* день недели,\n",
    "* название города.\n",
    "\n",
    "В функции сохраните в переменную строки исходной таблицы, у которых значение:\n",
    "  * в колонке `day` равно параметру `day`,\n",
    "  * в колонке `city` равно параметру `city`.\n",
    "\n",
    "Для этого примените последовательную фильтрацию с логической индексацией.\n",
    "\n",
    "Затем посчитайте значения в столбце `user_id` получившейся таблицы. Результат сохраните в новую переменную. Верните эту переменную из функции."
   ]
  },
  {
   "cell_type": "code",
   "execution_count": 21,
   "metadata": {
    "ExecuteTime": {
     "end_time": "2022-04-05T08:57:10.487181Z",
     "start_time": "2022-04-05T08:57:10.484537Z"
    },
    "id": "Nz3GdQB1_Zcu"
   },
   "outputs": [],
   "source": [
    "def number_tracks(day, city):\n",
    "    track_list = df[df['weekday'] == day]\n",
    "    track_list = track_list[track_list['city'] == city]\n",
    "    track_list_count = track_list['user_id'].count()\n",
    "    return track_list_count"
   ]
  },
  {
   "cell_type": "markdown",
   "metadata": {
    "id": "ytf7xFrFJQ2r"
   },
   "source": [
    "Вызовите `number_tracks()` шесть раз, меняя значение параметров — так, чтобы получить данные для каждого города в каждый из трёх дней."
   ]
  },
  {
   "cell_type": "code",
   "execution_count": 22,
   "metadata": {
    "ExecuteTime": {
     "end_time": "2022-04-05T08:57:10.504825Z",
     "start_time": "2022-04-05T08:57:10.488318Z"
    },
    "id": "rJcRATNQ_Zcu"
   },
   "outputs": [
    {
     "data": {
      "text/plain": [
       "15740"
      ]
     },
     "execution_count": 22,
     "metadata": {},
     "output_type": "execute_result"
    }
   ],
   "source": [
    "# количество прослушиваний в Москве по понедельникам\n",
    "number_tracks('Monday', 'Moscow')"
   ]
  },
  {
   "cell_type": "code",
   "execution_count": 23,
   "metadata": {
    "ExecuteTime": {
     "end_time": "2022-04-05T08:57:10.525440Z",
     "start_time": "2022-04-05T08:57:10.509531Z"
    },
    "id": "hq_ncZ5T_Zcu"
   },
   "outputs": [
    {
     "data": {
      "text/plain": [
       "5614"
      ]
     },
     "execution_count": 23,
     "metadata": {},
     "output_type": "execute_result"
    }
   ],
   "source": [
    "# количество прослушиваний в Санкт-Петербурге по понедельникам\n",
    "number_tracks('Monday', 'Saint-Petersburg')"
   ]
  },
  {
   "cell_type": "code",
   "execution_count": 24,
   "metadata": {
    "ExecuteTime": {
     "end_time": "2022-04-05T08:57:10.542283Z",
     "start_time": "2022-04-05T08:57:10.526666Z"
    },
    "id": "_NTy2VPU_Zcu"
   },
   "outputs": [
    {
     "data": {
      "text/plain": [
       "11056"
      ]
     },
     "execution_count": 24,
     "metadata": {},
     "output_type": "execute_result"
    }
   ],
   "source": [
    "# количество прослушиваний в Москве по средам\n",
    "number_tracks('Wednesday', 'Moscow')"
   ]
  },
  {
   "cell_type": "code",
   "execution_count": 25,
   "metadata": {
    "ExecuteTime": {
     "end_time": "2022-04-05T08:57:10.558026Z",
     "start_time": "2022-04-05T08:57:10.543620Z"
    },
    "id": "j2y3TAwo_Zcu"
   },
   "outputs": [
    {
     "data": {
      "text/plain": [
       "7003"
      ]
     },
     "execution_count": 25,
     "metadata": {},
     "output_type": "execute_result"
    }
   ],
   "source": [
    "# количество прослушиваний в Санкт-Петербурге по средам\n",
    "number_tracks('Wednesday', 'Saint-Petersburg')"
   ]
  },
  {
   "cell_type": "code",
   "execution_count": 26,
   "metadata": {
    "ExecuteTime": {
     "end_time": "2022-04-05T08:57:10.576462Z",
     "start_time": "2022-04-05T08:57:10.559336Z"
    },
    "id": "vYDw5u_K_Zcu"
   },
   "outputs": [
    {
     "data": {
      "text/plain": [
       "15945"
      ]
     },
     "execution_count": 26,
     "metadata": {},
     "output_type": "execute_result"
    }
   ],
   "source": [
    "# количество прослушиваний в Москве по пятницам\n",
    "number_tracks('Friday', 'Moscow')"
   ]
  },
  {
   "cell_type": "code",
   "execution_count": 27,
   "metadata": {
    "ExecuteTime": {
     "end_time": "2022-04-05T08:57:10.592852Z",
     "start_time": "2022-04-05T08:57:10.577628Z"
    },
    "id": "8_yzFtW3_Zcu"
   },
   "outputs": [
    {
     "data": {
      "text/plain": [
       "5895"
      ]
     },
     "execution_count": 27,
     "metadata": {},
     "output_type": "execute_result"
    }
   ],
   "source": [
    "# количество прослушиваний в Санкт-Петербурге по пятницам\n",
    "number_tracks('Friday', 'Saint-Petersburg')"
   ]
  },
  {
   "cell_type": "markdown",
   "metadata": {
    "id": "7QXffbO-_Zcu"
   },
   "source": [
    "Создайте c помощью конструктора `pd.DataFrame` таблицу, где\n",
    "* названия колонок — `['city', 'monday', 'wednesday', 'friday']`;\n",
    "* данные — результаты, которые вы получили с помощью `number_tracks`."
   ]
  },
  {
   "cell_type": "code",
   "execution_count": 28,
   "metadata": {
    "ExecuteTime": {
     "end_time": "2022-04-05T08:57:10.601573Z",
     "start_time": "2022-04-05T08:57:10.594015Z"
    },
    "id": "APAcLpOr_Zcu"
   },
   "outputs": [
    {
     "data": {
      "text/html": [
       "<div>\n",
       "<style scoped>\n",
       "    .dataframe tbody tr th:only-of-type {\n",
       "        vertical-align: middle;\n",
       "    }\n",
       "\n",
       "    .dataframe tbody tr th {\n",
       "        vertical-align: top;\n",
       "    }\n",
       "\n",
       "    .dataframe thead th {\n",
       "        text-align: right;\n",
       "    }\n",
       "</style>\n",
       "<table border=\"1\" class=\"dataframe\">\n",
       "  <thead>\n",
       "    <tr style=\"text-align: right;\">\n",
       "      <th></th>\n",
       "      <th>city</th>\n",
       "      <th>monday</th>\n",
       "      <th>wednesday</th>\n",
       "      <th>friday</th>\n",
       "    </tr>\n",
       "  </thead>\n",
       "  <tbody>\n",
       "    <tr>\n",
       "      <th>0</th>\n",
       "      <td>Moscow</td>\n",
       "      <td>15740</td>\n",
       "      <td>11056</td>\n",
       "      <td>15945</td>\n",
       "    </tr>\n",
       "    <tr>\n",
       "      <th>1</th>\n",
       "      <td>Saint-Petersburg</td>\n",
       "      <td>5614</td>\n",
       "      <td>7003</td>\n",
       "      <td>5895</td>\n",
       "    </tr>\n",
       "  </tbody>\n",
       "</table>\n",
       "</div>"
      ],
      "text/plain": [
       "               city  monday  wednesday  friday\n",
       "0            Moscow   15740      11056   15945\n",
       "1  Saint-Petersburg    5614       7003    5895"
      ]
     },
     "execution_count": 28,
     "metadata": {},
     "output_type": "execute_result"
    }
   ],
   "source": [
    "# Таблица с результатами\n",
    "data_trucks = [\n",
    "    ['Moscow', 15740, 11056, 15945],\n",
    "    ['Saint-Petersburg', 5614, 7003, 5895]\n",
    "]\n",
    "columns_trucks = ['city', 'monday', 'wednesday', 'friday']\n",
    "\n",
    "research_daily_activity = pd.DataFrame(data=data_trucks, columns=columns_trucks)\n",
    "\n",
    "research_daily_activity"
   ]
  },
  {
   "cell_type": "markdown",
   "metadata": {
    "id": "-EgPIHYu_Zcu"
   },
   "source": [
    "**Выводы**\n",
    "\n",
    "Данные показывают разницу поведения пользователей:\n",
    "\n",
    "- В Москве пик прослушиваний приходится на понедельник и пятницу, а в среду заметен спад.\n",
    "- В Петербурге, наоборот, больше слушают музыку по средам. Активность в понедельник и пятницу здесь почти в равной мере уступает среде.\n",
    "\n",
    "Значит, данные говорят в пользу первой гипотезы."
   ]
  },
  {
   "cell_type": "markdown",
   "metadata": {
    "id": "atZAxtq4_Zcu"
   },
   "source": [
    "### Музыка в начале и в конце недели"
   ]
  },
  {
   "cell_type": "markdown",
   "metadata": {
    "id": "eXrQqXFH_Zcu"
   },
   "source": [
    "Согласно второй гипотезе, утром в понедельник в Москве преобладают одни жанры, а в Петербурге — другие. Так же и вечером пятницы преобладают разные жанры — в зависимости от города."
   ]
  },
  {
   "cell_type": "markdown",
   "metadata": {
    "id": "S8UcW6Hw_Zcu"
   },
   "source": [
    "Сохраните таблицы с данными в две переменные:\n",
    "* по Москве — в `moscow_general`;\n",
    "* по Санкт-Петербургу — в `spb_general`."
   ]
  },
  {
   "cell_type": "code",
   "execution_count": 29,
   "metadata": {
    "ExecuteTime": {
     "end_time": "2022-04-05T08:57:10.614189Z",
     "start_time": "2022-04-05T08:57:10.602910Z"
    },
    "id": "qeaFfM_P_Zcu"
   },
   "outputs": [],
   "source": [
    "moscow_general = df[df['city'] == 'Moscow']"
   ]
  },
  {
   "cell_type": "code",
   "execution_count": 30,
   "metadata": {
    "ExecuteTime": {
     "end_time": "2022-04-05T08:57:10.625503Z",
     "start_time": "2022-04-05T08:57:10.615502Z"
    },
    "id": "ORaVRKto_Zcu"
   },
   "outputs": [],
   "source": [
    "spb_general = df[df['city'] == 'Saint-Petersburg']"
   ]
  },
  {
   "cell_type": "markdown",
   "metadata": {
    "id": "MEJV-CX2_Zcu"
   },
   "source": [
    "Создайте функцию `genre_weekday()` с четырьмя параметрами:\n",
    "* таблица (датафрейм) с данными,\n",
    "* день недели,\n",
    "* начальная временная метка в формате 'hh:mm', \n",
    "* последняя временная метка в формате 'hh:mm'.\n",
    "\n",
    "Функция должна вернуть информацию о топ-10 жанров тех треков, которые прослушивали в указанный день, в промежутке между двумя отметками времени."
   ]
  },
  {
   "cell_type": "code",
   "execution_count": 31,
   "metadata": {
    "ExecuteTime": {
     "end_time": "2022-04-05T08:57:10.630414Z",
     "start_time": "2022-04-05T08:57:10.626872Z"
    },
    "id": "laJT9BYl_Zcu"
   },
   "outputs": [],
   "source": [
    "def genre_weekday(table, day, time1, time2):\n",
    "    genre_df = table[table['weekday'] == day]\n",
    "    genre_df = table[table['start_time'] > time1]\n",
    "    genre_df = table[table['start_time'] < time2]\n",
    "    \n",
    "    genre_df_count = genre_df.groupby('genre')['genre'].count()\n",
    "    genre_df_sorted = genre_df_count.sort_values(ascending = False)\n",
    "    \n",
    "    return genre_df_sorted.head(10)"
   ]
  },
  {
   "cell_type": "markdown",
   "metadata": {
    "id": "la2s2_PF_Zcu"
   },
   "source": [
    "Cравните результаты функции `genre_weekday()` для Москвы и Санкт-Петербурга в понедельник утром (с 7:00 до 11:00) и в пятницу вечером (с 17:00 до 23:00):"
   ]
  },
  {
   "cell_type": "code",
   "execution_count": 32,
   "metadata": {
    "ExecuteTime": {
     "end_time": "2022-04-05T08:57:10.657819Z",
     "start_time": "2022-04-05T08:57:10.631996Z"
    },
    "id": "yz7itPUQ_Zcu"
   },
   "outputs": [
    {
     "data": {
      "text/plain": [
       "genre\n",
       "pop            2015\n",
       "dance          1444\n",
       "rock           1259\n",
       "electronic     1249\n",
       "hiphop          709\n",
       "ruspop          510\n",
       "classical       473\n",
       "world           439\n",
       "alternative     436\n",
       "rusrap          406\n",
       "Name: genre, dtype: int64"
      ]
     },
     "execution_count": 32,
     "metadata": {},
     "output_type": "execute_result"
    }
   ],
   "source": [
    "genre_weekday(moscow_general, 'Monday', '07:00', '11:00')"
   ]
  },
  {
   "cell_type": "code",
   "execution_count": 33,
   "metadata": {
    "ExecuteTime": {
     "end_time": "2022-04-05T08:57:10.673862Z",
     "start_time": "2022-04-05T08:57:10.659024Z"
    },
    "id": "kwUcHPdy_Zcu"
   },
   "outputs": [
    {
     "data": {
      "text/plain": [
       "genre\n",
       "pop            701\n",
       "dance          606\n",
       "rock           520\n",
       "electronic     520\n",
       "hiphop         288\n",
       "rusrap         195\n",
       "alternative    184\n",
       "ruspop         174\n",
       "classical      155\n",
       "world          130\n",
       "Name: genre, dtype: int64"
      ]
     },
     "execution_count": 33,
     "metadata": {},
     "output_type": "execute_result"
    }
   ],
   "source": [
    "genre_weekday(spb_general, 'Monday', '07:00', '11:00')"
   ]
  },
  {
   "cell_type": "code",
   "execution_count": 34,
   "metadata": {
    "ExecuteTime": {
     "end_time": "2022-04-05T08:57:10.703842Z",
     "start_time": "2022-04-05T08:57:10.675144Z"
    },
    "id": "EzXVRE1o_Zcu"
   },
   "outputs": [
    {
     "data": {
      "text/plain": [
       "genre\n",
       "pop            5892\n",
       "dance          4435\n",
       "rock           3965\n",
       "electronic     3786\n",
       "hiphop         2096\n",
       "classical      1616\n",
       "world          1432\n",
       "alternative    1379\n",
       "ruspop         1372\n",
       "rusrap         1161\n",
       "Name: genre, dtype: int64"
      ]
     },
     "execution_count": 34,
     "metadata": {},
     "output_type": "execute_result"
    }
   ],
   "source": [
    "genre_weekday(moscow_general, 'Friday', '17:00', '23:00')"
   ]
  },
  {
   "cell_type": "code",
   "execution_count": 35,
   "metadata": {
    "ExecuteTime": {
     "end_time": "2022-04-05T08:57:10.722086Z",
     "start_time": "2022-04-05T08:57:10.705533Z"
    },
    "id": "JZaEKu5v_Zcu"
   },
   "outputs": [
    {
     "data": {
      "text/plain": [
       "genre\n",
       "pop            2431\n",
       "dance          1932\n",
       "rock           1879\n",
       "electronic     1737\n",
       "hiphop          960\n",
       "alternative     649\n",
       "classical       646\n",
       "rusrap          564\n",
       "ruspop          538\n",
       "world           515\n",
       "Name: genre, dtype: int64"
      ]
     },
     "execution_count": 35,
     "metadata": {},
     "output_type": "execute_result"
    }
   ],
   "source": [
    "genre_weekday(spb_general, 'Friday', '17:00', '23:00')"
   ]
  },
  {
   "cell_type": "code",
   "execution_count": 36,
   "metadata": {
    "ExecuteTime": {
     "end_time": "2022-04-05T08:57:10.734502Z",
     "start_time": "2022-04-05T08:57:10.723346Z"
    }
   },
   "outputs": [
    {
     "data": {
      "text/plain": [
       "genre\n",
       "pop            5892\n",
       "dance          4435\n",
       "rock           3965\n",
       "electronic     3786\n",
       "hiphop         2096\n",
       "classical      1616\n",
       "world          1432\n",
       "alternative    1379\n",
       "ruspop         1372\n",
       "rusrap         1161\n",
       "jazz            980\n",
       "unknown         849\n",
       "metal           832\n",
       "soundtrack      785\n",
       "folk            692\n",
       "Name: genre, dtype: int64"
      ]
     },
     "execution_count": 36,
     "metadata": {},
     "output_type": "execute_result"
    }
   ],
   "source": [
    "# КОД РЕВЬЮЕРА\n",
    "\n",
    "moscow_general.groupby('genre')['genre'].count().sort_values(ascending = False).head(15)"
   ]
  },
  {
   "cell_type": "markdown",
   "metadata": {
    "id": "wrCe4MNX_Zcu"
   },
   "source": [
    "**Выводы**\n",
    "\n",
    "Если сравнить топ-10 жанров в понедельник утром, можно сделать такие выводы:\n",
    "\n",
    "1. В Москве и Петербурге слушают похожую музыку. Единственное отличие — в московский рейтинг вошёл жанр “world”, а в петербургский — джаз и классика.\n",
    "\n",
    "2. В Москве пропущенных значений оказалось так много, что значение `'unknown'` заняло десятое место среди самых популярных жанров. Значит, пропущенные значения занимают существенную долю в данных и угрожают достоверности исследования.\n",
    "\n",
    "Вечер пятницы не меняет эту картину. Некоторые жанры поднимаются немного выше, другие спускаются, но в целом топ-10 остаётся тем же самым.\n",
    "\n",
    "Таким образом, вторая гипотеза подтвердилась лишь частично:\n",
    "* Пользователи слушают похожую музыку в начале недели и в конце.\n",
    "* Разница между Москвой и Петербургом не слишком выражена. В Москве чаще слушают русскую популярную музыку, в Петербурге — джаз.\n",
    "\n",
    "Однако пропуски в данных ставят под сомнение этот результат. В Москве их так много, что рейтинг топ-10 мог бы выглядеть иначе, если бы не утерянные  данные о жанрах."
   ]
  },
  {
   "cell_type": "markdown",
   "metadata": {
    "id": "JolODAqr_Zcu"
   },
   "source": [
    "### Жанровые предпочтения в Москве и Петербурге\n",
    "\n",
    "Гипотеза: Петербург — столица рэпа, музыку этого жанра там слушают чаще, чем в Москве.  А Москва — город контрастов, в котором, тем не менее, преобладает поп-музыка."
   ]
  },
  {
   "cell_type": "markdown",
   "metadata": {
    "id": "DlegSvaT_Zcu"
   },
   "source": [
    "Сгруппируйте таблицу `moscow_general` по жанру и посчитайте прослушивания треков каждого жанра методом `count()`. Затем отсортируйте результат в порядке убывания и сохраните его в таблице `moscow_genres`."
   ]
  },
  {
   "cell_type": "code",
   "execution_count": 37,
   "metadata": {
    "ExecuteTime": {
     "end_time": "2022-04-05T08:57:10.744803Z",
     "start_time": "2022-04-05T08:57:10.735763Z"
    },
    "id": "r19lIPke_Zcu"
   },
   "outputs": [],
   "source": [
    "moscow_genres = moscow_general.groupby('genre')['genre'].count().sort_values(ascending = False)"
   ]
  },
  {
   "cell_type": "markdown",
   "metadata": {
    "id": "6kMuomxTiIr8"
   },
   "source": [
    "Выведите на экран первые десять строк `moscow_genres`:"
   ]
  },
  {
   "cell_type": "code",
   "execution_count": 38,
   "metadata": {
    "ExecuteTime": {
     "end_time": "2022-04-05T08:57:10.749730Z",
     "start_time": "2022-04-05T08:57:10.745837Z"
    },
    "id": "WhCSooF8_Zcv"
   },
   "outputs": [
    {
     "data": {
      "text/plain": [
       "genre\n",
       "pop            5892\n",
       "dance          4435\n",
       "rock           3965\n",
       "electronic     3786\n",
       "hiphop         2096\n",
       "classical      1616\n",
       "world          1432\n",
       "alternative    1379\n",
       "ruspop         1372\n",
       "rusrap         1161\n",
       "Name: genre, dtype: int64"
      ]
     },
     "execution_count": 38,
     "metadata": {},
     "output_type": "execute_result"
    }
   ],
   "source": [
    "moscow_genres.head(10)"
   ]
  },
  {
   "cell_type": "code",
   "execution_count": 39,
   "metadata": {
    "ExecuteTime": {
     "end_time": "2022-04-05T08:57:10.756664Z",
     "start_time": "2022-04-05T08:57:10.751175Z"
    }
   },
   "outputs": [
    {
     "data": {
      "text/html": [
       "<div>\n",
       "<style scoped>\n",
       "    .dataframe tbody tr th:only-of-type {\n",
       "        vertical-align: middle;\n",
       "    }\n",
       "\n",
       "    .dataframe tbody tr th {\n",
       "        vertical-align: top;\n",
       "    }\n",
       "\n",
       "    .dataframe thead th {\n",
       "        text-align: right;\n",
       "    }\n",
       "</style>\n",
       "<table border=\"1\" class=\"dataframe\">\n",
       "  <thead>\n",
       "    <tr style=\"text-align: right;\">\n",
       "      <th></th>\n",
       "      <th>genre</th>\n",
       "    </tr>\n",
       "    <tr>\n",
       "      <th>genre</th>\n",
       "      <th></th>\n",
       "    </tr>\n",
       "  </thead>\n",
       "  <tbody>\n",
       "    <tr>\n",
       "      <th>pop</th>\n",
       "      <td>5892</td>\n",
       "    </tr>\n",
       "    <tr>\n",
       "      <th>dance</th>\n",
       "      <td>4435</td>\n",
       "    </tr>\n",
       "    <tr>\n",
       "      <th>rock</th>\n",
       "      <td>3965</td>\n",
       "    </tr>\n",
       "    <tr>\n",
       "      <th>electronic</th>\n",
       "      <td>3786</td>\n",
       "    </tr>\n",
       "    <tr>\n",
       "      <th>hiphop</th>\n",
       "      <td>2096</td>\n",
       "    </tr>\n",
       "    <tr>\n",
       "      <th>classical</th>\n",
       "      <td>1616</td>\n",
       "    </tr>\n",
       "    <tr>\n",
       "      <th>world</th>\n",
       "      <td>1432</td>\n",
       "    </tr>\n",
       "    <tr>\n",
       "      <th>alternative</th>\n",
       "      <td>1379</td>\n",
       "    </tr>\n",
       "    <tr>\n",
       "      <th>ruspop</th>\n",
       "      <td>1372</td>\n",
       "    </tr>\n",
       "    <tr>\n",
       "      <th>rusrap</th>\n",
       "      <td>1161</td>\n",
       "    </tr>\n",
       "  </tbody>\n",
       "</table>\n",
       "</div>"
      ],
      "text/plain": [
       "             genre\n",
       "genre             \n",
       "pop           5892\n",
       "dance         4435\n",
       "rock          3965\n",
       "electronic    3786\n",
       "hiphop        2096\n",
       "classical     1616\n",
       "world         1432\n",
       "alternative   1379\n",
       "ruspop        1372\n",
       "rusrap        1161"
      ]
     },
     "execution_count": 39,
     "metadata": {},
     "output_type": "execute_result"
    }
   ],
   "source": [
    "# КОД РЕВЬЮЕРА\n",
    "\n",
    "moscow_genres.to_frame().head(10)"
   ]
  },
  {
   "cell_type": "markdown",
   "metadata": {
    "id": "cnPG2vnN_Zcv"
   },
   "source": [
    "Теперь повторите то же и для Петербурга.\n",
    "\n",
    "Сгруппируйте таблицу `spb_general` по жанру. Посчитайте прослушивания треков каждого жанра. Результат отсортируйте в порядке убывания и сохраните в таблице `spb_genres`:\n"
   ]
  },
  {
   "cell_type": "code",
   "execution_count": 40,
   "metadata": {
    "ExecuteTime": {
     "end_time": "2022-04-05T08:57:10.763701Z",
     "start_time": "2022-04-05T08:57:10.757778Z"
    },
    "id": "gluLIpE7_Zcv"
   },
   "outputs": [],
   "source": [
    "spb_genres = spb_general.groupby('genre')['genre'].count().sort_values(ascending = False)"
   ]
  },
  {
   "cell_type": "markdown",
   "metadata": {
    "id": "5Doha_ODgyQ8"
   },
   "source": [
    "Выведите на экран первые десять строк `spb_genres`:"
   ]
  },
  {
   "cell_type": "code",
   "execution_count": 41,
   "metadata": {
    "ExecuteTime": {
     "end_time": "2022-04-05T08:57:10.768494Z",
     "start_time": "2022-04-05T08:57:10.764790Z"
    },
    "id": "uaGJHjVU_Zcv"
   },
   "outputs": [
    {
     "data": {
      "text/plain": [
       "genre\n",
       "pop            2431\n",
       "dance          1932\n",
       "rock           1879\n",
       "electronic     1737\n",
       "hiphop          960\n",
       "alternative     649\n",
       "classical       646\n",
       "rusrap          564\n",
       "ruspop          538\n",
       "world           515\n",
       "Name: genre, dtype: int64"
      ]
     },
     "execution_count": 41,
     "metadata": {},
     "output_type": "execute_result"
    }
   ],
   "source": [
    "spb_genres.head(10)"
   ]
  },
  {
   "cell_type": "markdown",
   "metadata": {
    "id": "RY51YJYu_Zcv"
   },
   "source": [
    "**Выводы**"
   ]
  },
  {
   "cell_type": "markdown",
   "metadata": {
    "id": "nVhnJEm__Zcv"
   },
   "source": [
    "Гипотеза частично подтвердилась:\n",
    "* Поп-музыка — самый популярный жанр в Москве, как и предполагала гипотеза. Более того, в топ-10 жанров встречается близкий жанр — русская популярная музыка.\n",
    "* Вопреки ожиданиям, рэп одинаково популярен в Москве и Петербурге. \n"
   ]
  },
  {
   "cell_type": "markdown",
   "metadata": {
    "id": "ykKQ0N65_Zcv"
   },
   "source": [
    "## Итоги исследования"
   ]
  },
  {
   "cell_type": "markdown",
   "metadata": {
    "id": "tjUwbHb3_Zcv"
   },
   "source": [
    "Вы проверили три гипотезы и установили:\n",
    "\n",
    "1. День недели по-разному влияет на активность пользователей в Москве и Петербурге. \n",
    "\n",
    "Первая гипотеза полностью подтвердилась.\n",
    "\n",
    "2. Музыкальные предпочтения не сильно меняются в течение недели — будь то Москва или Петербург. Небольшие различия заметны в начале недели, по понедельникам:\n",
    "* в Москве слушают музыку жанра “world”,\n",
    "* в Петербурге — джаз и классику.\n",
    "\n",
    "Таким образом, вторая гипотеза подтвердилась лишь отчасти. Этот результат мог оказаться иным, если бы не пропуски в данных.\n",
    "\n",
    "3. Во вкусах пользователей Москвы и Петербурга больше общего чем различий. Вопреки ожиданиям, предпочтения жанров в Петербурге напоминают московские.\n",
    "\n",
    "Третья гипотеза не подтвердилась. Если различия в предпочтениях и существуют, на основной массе пользователей они незаметны.\n",
    "\n",
    "**На практике исследования содержат проверки статистических гипотез.**\n",
    "Из данных одного сервиса не всегда можно сделать вывод о всех жителях города.\n",
    "Проверки статистических гипотез покажут, насколько они достоверны, исходя из имеющихся данных. \n",
    "С методами проверок гипотез вы ещё познакомитесь в следующих темах."
   ]
  }
 ],
 "metadata": {
  "ExecuteTimeLog": [
   {
    "duration": 748,
    "start_time": "2021-11-04T10:19:35.061Z"
   },
   {
    "duration": 3553,
    "start_time": "2021-11-04T10:20:13.796Z"
   },
   {
    "duration": 173,
    "start_time": "2021-11-04T10:20:38.360Z"
   },
   {
    "duration": 28,
    "start_time": "2021-11-04T10:21:01.032Z"
   },
   {
    "duration": 31,
    "start_time": "2021-11-04T10:21:19.017Z"
   },
   {
    "duration": 33,
    "start_time": "2021-11-04T10:25:34.600Z"
   },
   {
    "duration": 3,
    "start_time": "2021-11-04T10:34:18.508Z"
   },
   {
    "duration": 3,
    "start_time": "2021-11-04T10:34:23.067Z"
   },
   {
    "duration": 31,
    "start_time": "2021-11-04T10:34:31.738Z"
   },
   {
    "duration": 6,
    "start_time": "2021-11-04T10:43:13.656Z"
   },
   {
    "duration": 5,
    "start_time": "2021-11-04T10:48:24.905Z"
   },
   {
    "duration": 6,
    "start_time": "2021-11-04T10:48:38.120Z"
   },
   {
    "duration": 141,
    "start_time": "2021-11-04T10:48:42.075Z"
   },
   {
    "duration": 129,
    "start_time": "2021-11-04T10:49:07.877Z"
   },
   {
    "duration": 24,
    "start_time": "2021-11-04T10:49:22.019Z"
   },
   {
    "duration": 6,
    "start_time": "2021-11-04T10:49:28.048Z"
   },
   {
    "duration": 39,
    "start_time": "2021-11-04T10:50:07.739Z"
   },
   {
    "duration": 29,
    "start_time": "2021-11-04T10:50:15.743Z"
   },
   {
    "duration": 20,
    "start_time": "2021-11-04T10:56:35.085Z"
   },
   {
    "duration": 29,
    "start_time": "2021-11-04T10:56:37.641Z"
   },
   {
    "duration": 21,
    "start_time": "2021-11-04T10:57:08.866Z"
   },
   {
    "duration": 30,
    "start_time": "2021-11-04T10:57:11.723Z"
   },
   {
    "duration": 83,
    "start_time": "2021-11-04T10:58:05.518Z"
   },
   {
    "duration": 79,
    "start_time": "2021-11-04T10:58:12.518Z"
   },
   {
    "duration": 107,
    "start_time": "2021-11-04T10:59:38.335Z"
   },
   {
    "duration": 81,
    "start_time": "2021-11-04T10:59:46.000Z"
   },
   {
    "duration": 85,
    "start_time": "2021-11-04T11:00:09.355Z"
   },
   {
    "duration": 73,
    "start_time": "2021-11-04T11:00:17.396Z"
   },
   {
    "duration": 9,
    "start_time": "2021-11-04T11:01:23.442Z"
   },
   {
    "duration": 366,
    "start_time": "2021-11-04T11:02:14.412Z"
   },
   {
    "duration": 371,
    "start_time": "2021-11-04T11:02:24.477Z"
   },
   {
    "duration": 16,
    "start_time": "2021-11-04T11:02:38.130Z"
   },
   {
    "duration": 29,
    "start_time": "2021-11-04T11:04:46.724Z"
   },
   {
    "duration": 71,
    "start_time": "2021-11-04T11:04:54.871Z"
   },
   {
    "duration": 5,
    "start_time": "2021-11-04T11:09:44.376Z"
   },
   {
    "duration": 4,
    "start_time": "2021-11-04T11:11:57.819Z"
   },
   {
    "duration": 11,
    "start_time": "2021-11-04T11:12:00.683Z"
   },
   {
    "duration": 16,
    "start_time": "2021-11-04T11:12:18.234Z"
   },
   {
    "duration": 4,
    "start_time": "2021-11-04T11:13:58.871Z"
   },
   {
    "duration": 14,
    "start_time": "2021-11-04T11:14:03.580Z"
   },
   {
    "duration": 14,
    "start_time": "2021-11-04T11:14:06.070Z"
   },
   {
    "duration": 468,
    "start_time": "2021-11-04T11:16:25.332Z"
   },
   {
    "duration": 379,
    "start_time": "2021-11-04T11:16:34.453Z"
   },
   {
    "duration": 15,
    "start_time": "2021-11-04T11:16:40.408Z"
   },
   {
    "duration": 12,
    "start_time": "2021-11-04T11:17:06.509Z"
   },
   {
    "duration": 13,
    "start_time": "2021-11-04T11:17:27.074Z"
   },
   {
    "duration": 28,
    "start_time": "2021-11-04T11:17:37.919Z"
   },
   {
    "duration": 20,
    "start_time": "2021-11-04T11:18:15.846Z"
   },
   {
    "duration": 20,
    "start_time": "2021-11-04T11:18:30.885Z"
   },
   {
    "duration": 17,
    "start_time": "2021-11-04T11:19:45.413Z"
   },
   {
    "duration": 16,
    "start_time": "2021-11-04T11:20:10.862Z"
   },
   {
    "duration": 19,
    "start_time": "2021-11-04T11:21:49.084Z"
   },
   {
    "duration": 20,
    "start_time": "2021-11-04T11:21:51.379Z"
   },
   {
    "duration": 20,
    "start_time": "2021-11-04T11:24:33.187Z"
   },
   {
    "duration": 20,
    "start_time": "2021-11-04T11:24:36.951Z"
   },
   {
    "duration": 19,
    "start_time": "2021-11-04T11:29:27.402Z"
   },
   {
    "duration": 20,
    "start_time": "2021-11-04T11:29:29.757Z"
   },
   {
    "duration": 19,
    "start_time": "2021-11-04T11:29:39.147Z"
   },
   {
    "duration": 19,
    "start_time": "2021-11-04T11:29:41.173Z"
   },
   {
    "duration": 20,
    "start_time": "2021-11-04T11:30:14.939Z"
   },
   {
    "duration": 23,
    "start_time": "2021-11-04T11:30:45.719Z"
   },
   {
    "duration": 19,
    "start_time": "2021-11-04T11:30:49.678Z"
   },
   {
    "duration": 20,
    "start_time": "2021-11-04T11:31:05.759Z"
   },
   {
    "duration": 13,
    "start_time": "2021-11-04T11:39:20.125Z"
   },
   {
    "duration": 13,
    "start_time": "2021-11-04T11:39:31.614Z"
   },
   {
    "duration": 8,
    "start_time": "2021-11-04T11:44:00.944Z"
   },
   {
    "duration": 37,
    "start_time": "2021-11-04T11:46:50.552Z"
   },
   {
    "duration": 380,
    "start_time": "2021-11-04T11:48:19.416Z"
   },
   {
    "duration": 38,
    "start_time": "2021-11-04T11:48:50.802Z"
   },
   {
    "duration": 9044,
    "start_time": "2021-11-04T11:48:53.554Z"
   },
   {
    "duration": 386,
    "start_time": "2021-11-04T11:49:33.695Z"
   },
   {
    "duration": 422,
    "start_time": "2021-11-04T11:49:48.829Z"
   },
   {
    "duration": 5672,
    "start_time": "2021-11-04T11:50:27.096Z"
   },
   {
    "duration": 47,
    "start_time": "2021-11-04T11:50:39.081Z"
   },
   {
    "duration": 57,
    "start_time": "2021-11-04T11:50:53.049Z"
   },
   {
    "duration": 27,
    "start_time": "2021-11-04T11:51:33.968Z"
   },
   {
    "duration": 30,
    "start_time": "2021-11-04T11:52:05.708Z"
   },
   {
    "duration": 27,
    "start_time": "2021-11-04T11:54:31.634Z"
   },
   {
    "duration": 27,
    "start_time": "2021-11-04T11:54:49.406Z"
   },
   {
    "duration": 28,
    "start_time": "2021-11-04T11:56:21.343Z"
   },
   {
    "duration": 7,
    "start_time": "2021-11-04T11:57:23.313Z"
   },
   {
    "duration": 7,
    "start_time": "2021-11-04T11:57:49.095Z"
   },
   {
    "duration": 357,
    "start_time": "2021-11-04T11:58:53.221Z"
   },
   {
    "duration": 12,
    "start_time": "2021-11-04T11:59:20.926Z"
   },
   {
    "duration": 33,
    "start_time": "2021-11-04T12:00:27.302Z"
   },
   {
    "duration": 363,
    "start_time": "2021-11-04T12:00:48.482Z"
   },
   {
    "duration": 36,
    "start_time": "2021-11-04T12:01:13.202Z"
   },
   {
    "duration": 16,
    "start_time": "2021-11-04T12:01:22.728Z"
   },
   {
    "duration": 387,
    "start_time": "2021-11-04T12:01:45.783Z"
   },
   {
    "duration": 12,
    "start_time": "2021-11-04T12:01:53.958Z"
   },
   {
    "duration": 19,
    "start_time": "2021-11-04T12:02:42.897Z"
   },
   {
    "duration": 17,
    "start_time": "2021-11-04T12:04:35.511Z"
   },
   {
    "duration": 16,
    "start_time": "2021-11-04T12:05:16.507Z"
   },
   {
    "duration": 17,
    "start_time": "2021-11-04T12:05:25.162Z"
   },
   {
    "duration": 28,
    "start_time": "2021-11-04T12:05:51.863Z"
   },
   {
    "duration": 372,
    "start_time": "2021-11-04T12:07:15.219Z"
   },
   {
    "duration": 15,
    "start_time": "2021-11-04T12:08:01.765Z"
   },
   {
    "duration": 11016,
    "start_time": "2021-11-04T12:16:50.900Z"
   },
   {
    "duration": 9267,
    "start_time": "2021-11-04T12:17:15.125Z"
   },
   {
    "duration": 38,
    "start_time": "2021-11-04T12:17:53.199Z"
   },
   {
    "duration": 4,
    "start_time": "2021-11-04T12:18:44.811Z"
   },
   {
    "duration": 121,
    "start_time": "2021-11-04T12:20:23.003Z"
   },
   {
    "duration": 28,
    "start_time": "2021-11-04T12:21:21.355Z"
   },
   {
    "duration": 26,
    "start_time": "2021-11-04T12:21:51.159Z"
   },
   {
    "duration": 30,
    "start_time": "2021-11-04T12:22:10.689Z"
   },
   {
    "duration": 24,
    "start_time": "2021-11-04T12:22:35.936Z"
   },
   {
    "duration": 32,
    "start_time": "2021-11-04T12:23:30.282Z"
   },
   {
    "duration": 24,
    "start_time": "2021-11-04T12:23:33.897Z"
   },
   {
    "duration": 27,
    "start_time": "2021-11-04T12:24:09.598Z"
   },
   {
    "duration": 23,
    "start_time": "2021-11-04T12:24:14.217Z"
   },
   {
    "duration": 6,
    "start_time": "2021-11-04T12:24:29.007Z"
   },
   {
    "duration": 20,
    "start_time": "2021-11-04T12:24:32.442Z"
   },
   {
    "duration": 21,
    "start_time": "2021-11-04T12:24:35.307Z"
   },
   {
    "duration": 18,
    "start_time": "2021-11-04T12:24:37.467Z"
   },
   {
    "duration": 18,
    "start_time": "2021-11-04T12:24:38.277Z"
   },
   {
    "duration": 18,
    "start_time": "2021-11-04T12:24:39.117Z"
   },
   {
    "duration": 21,
    "start_time": "2021-11-04T12:24:39.746Z"
   },
   {
    "duration": 19,
    "start_time": "2021-11-04T12:24:40.361Z"
   },
   {
    "duration": 451,
    "start_time": "2021-11-04T12:33:35.438Z"
   },
   {
    "duration": 13,
    "start_time": "2021-11-04T12:33:46.508Z"
   },
   {
    "duration": 20,
    "start_time": "2021-11-04T12:34:37.149Z"
   },
   {
    "duration": 12,
    "start_time": "2021-11-04T12:34:40.742Z"
   },
   {
    "duration": 4,
    "start_time": "2021-11-04T12:34:47.010Z"
   },
   {
    "duration": 209,
    "start_time": "2021-11-04T12:34:47.029Z"
   },
   {
    "duration": 20,
    "start_time": "2021-11-04T12:34:47.240Z"
   },
   {
    "duration": 33,
    "start_time": "2021-11-04T12:34:47.263Z"
   },
   {
    "duration": 5,
    "start_time": "2021-11-04T12:34:47.299Z"
   },
   {
    "duration": 52,
    "start_time": "2021-11-04T12:34:47.307Z"
   },
   {
    "duration": 5,
    "start_time": "2021-11-04T12:34:47.362Z"
   },
   {
    "duration": 35,
    "start_time": "2021-11-04T12:34:47.370Z"
   },
   {
    "duration": 55,
    "start_time": "2021-11-04T12:34:47.409Z"
   },
   {
    "duration": 71,
    "start_time": "2021-11-04T12:34:47.467Z"
   },
   {
    "duration": 84,
    "start_time": "2021-11-04T12:34:47.541Z"
   },
   {
    "duration": 106,
    "start_time": "2021-11-04T12:34:47.627Z"
   },
   {
    "duration": 87,
    "start_time": "2021-11-04T12:34:47.735Z"
   },
   {
    "duration": 13,
    "start_time": "2021-11-04T12:34:47.825Z"
   },
   {
    "duration": 21,
    "start_time": "2021-11-04T12:34:47.840Z"
   },
   {
    "duration": 21,
    "start_time": "2021-11-04T12:34:47.863Z"
   },
   {
    "duration": 15,
    "start_time": "2021-11-04T12:34:47.886Z"
   },
   {
    "duration": 57,
    "start_time": "2021-11-04T12:34:47.904Z"
   },
   {
    "duration": 14,
    "start_time": "2021-11-04T12:34:47.963Z"
   },
   {
    "duration": 4,
    "start_time": "2021-11-04T12:34:47.980Z"
   },
   {
    "duration": 22,
    "start_time": "2021-11-04T12:34:47.986Z"
   },
   {
    "duration": 56,
    "start_time": "2021-11-04T12:34:48.011Z"
   },
   {
    "duration": 21,
    "start_time": "2021-11-04T12:34:48.070Z"
   },
   {
    "duration": 18,
    "start_time": "2021-11-04T12:34:48.095Z"
   },
   {
    "duration": 54,
    "start_time": "2021-11-04T12:34:48.116Z"
   },
   {
    "duration": 19,
    "start_time": "2021-11-04T12:34:48.172Z"
   },
   {
    "duration": 12,
    "start_time": "2021-11-04T12:34:48.194Z"
   },
   {
    "duration": 29,
    "start_time": "2021-11-04T12:34:48.209Z"
   },
   {
    "duration": 19,
    "start_time": "2021-11-04T12:34:48.240Z"
   },
   {
    "duration": 6,
    "start_time": "2021-11-04T12:34:48.262Z"
   },
   {
    "duration": 10,
    "start_time": "2021-11-04T12:34:48.271Z"
   },
   {
    "duration": 7,
    "start_time": "2021-11-04T12:34:48.283Z"
   },
   {
    "duration": 11,
    "start_time": "2021-11-04T12:34:48.292Z"
   },
   {
    "duration": 7,
    "start_time": "2021-11-04T12:34:48.306Z"
   },
   {
    "duration": 6,
    "start_time": "2021-11-04T12:34:48.316Z"
   },
   {
    "duration": 10,
    "start_time": "2021-11-04T12:34:48.324Z"
   },
   {
    "duration": 22,
    "start_time": "2021-11-04T12:34:48.337Z"
   },
   {
    "duration": 7,
    "start_time": "2021-11-04T12:34:48.362Z"
   },
   {
    "duration": 33,
    "start_time": "2021-11-04T12:36:20.335Z"
   },
   {
    "duration": 12,
    "start_time": "2021-11-04T12:37:03.267Z"
   },
   {
    "duration": 15,
    "start_time": "2021-11-04T12:37:14.546Z"
   },
   {
    "duration": 24,
    "start_time": "2021-11-04T12:37:29.082Z"
   },
   {
    "duration": 12,
    "start_time": "2021-11-04T12:37:33.972Z"
   },
   {
    "duration": 13,
    "start_time": "2021-11-04T12:42:07.856Z"
   },
   {
    "duration": 4,
    "start_time": "2021-11-04T12:42:57.364Z"
   },
   {
    "duration": 11,
    "start_time": "2021-11-04T12:50:24.702Z"
   },
   {
    "duration": 11,
    "start_time": "2021-11-04T12:50:28.066Z"
   },
   {
    "duration": 13,
    "start_time": "2021-11-04T12:50:46.947Z"
   },
   {
    "duration": 6,
    "start_time": "2021-11-04T12:51:40.244Z"
   },
   {
    "duration": 753,
    "start_time": "2021-11-04T12:51:43.004Z"
   },
   {
    "duration": 6,
    "start_time": "2021-11-04T12:53:05.910Z"
   },
   {
    "duration": 51,
    "start_time": "2021-11-04T12:53:08.834Z"
   },
   {
    "duration": 5,
    "start_time": "2021-11-04T13:02:38.576Z"
   },
   {
    "duration": 57,
    "start_time": "2021-11-04T13:02:46.069Z"
   },
   {
    "duration": 6,
    "start_time": "2021-11-04T13:03:06.926Z"
   },
   {
    "duration": 51,
    "start_time": "2021-11-04T13:03:10.376Z"
   },
   {
    "duration": 5,
    "start_time": "2021-11-04T13:04:21.673Z"
   },
   {
    "duration": 51,
    "start_time": "2021-11-04T13:04:24.747Z"
   },
   {
    "duration": 5,
    "start_time": "2021-11-04T13:05:17.548Z"
   },
   {
    "duration": 52,
    "start_time": "2021-11-04T13:05:20.849Z"
   },
   {
    "duration": 7,
    "start_time": "2021-11-04T13:05:34.290Z"
   },
   {
    "duration": 46,
    "start_time": "2021-11-04T13:05:37.528Z"
   },
   {
    "duration": 48,
    "start_time": "2021-11-04T13:06:18.207Z"
   },
   {
    "duration": 5,
    "start_time": "2021-11-04T13:06:22.740Z"
   },
   {
    "duration": 741,
    "start_time": "2021-11-04T13:06:25.169Z"
   },
   {
    "duration": 5,
    "start_time": "2021-11-04T13:06:38.775Z"
   },
   {
    "duration": 43,
    "start_time": "2021-11-04T13:06:41.580Z"
   },
   {
    "duration": 54,
    "start_time": "2021-11-04T13:07:36.032Z"
   },
   {
    "duration": 22,
    "start_time": "2021-11-04T13:08:24.992Z"
   },
   {
    "duration": 43,
    "start_time": "2021-11-04T13:09:40.158Z"
   },
   {
    "duration": 23,
    "start_time": "2021-11-04T13:09:42.827Z"
   },
   {
    "duration": 5,
    "start_time": "2021-11-04T13:10:34.084Z"
   },
   {
    "duration": 46,
    "start_time": "2021-11-04T13:10:36.678Z"
   },
   {
    "duration": 25,
    "start_time": "2021-11-04T13:10:41.779Z"
   },
   {
    "duration": 40,
    "start_time": "2021-11-04T13:10:47.899Z"
   },
   {
    "duration": 23,
    "start_time": "2021-11-04T13:10:54.019Z"
   },
   {
    "duration": 5,
    "start_time": "2021-11-04T13:12:39.142Z"
   },
   {
    "duration": 36,
    "start_time": "2021-11-04T13:12:41.645Z"
   },
   {
    "duration": 22,
    "start_time": "2021-11-04T13:12:45.125Z"
   },
   {
    "duration": 39,
    "start_time": "2021-11-04T13:12:49.911Z"
   },
   {
    "duration": 24,
    "start_time": "2021-11-04T13:12:53.511Z"
   },
   {
    "duration": 5,
    "start_time": "2021-11-04T13:13:15.336Z"
   },
   {
    "duration": 36,
    "start_time": "2021-11-04T13:13:17.555Z"
   },
   {
    "duration": 22,
    "start_time": "2021-11-04T13:13:18.486Z"
   },
   {
    "duration": 39,
    "start_time": "2021-11-04T13:13:19.956Z"
   },
   {
    "duration": 24,
    "start_time": "2021-11-04T13:13:20.601Z"
   },
   {
    "duration": 13,
    "start_time": "2021-11-04T13:15:39.609Z"
   },
   {
    "duration": 16,
    "start_time": "2021-11-04T13:15:40.898Z"
   },
   {
    "duration": 144,
    "start_time": "2021-11-04T13:16:11.202Z"
   },
   {
    "duration": 5,
    "start_time": "2021-11-04T13:16:28.690Z"
   },
   {
    "duration": 40,
    "start_time": "2021-11-04T13:16:30.655Z"
   },
   {
    "duration": 22,
    "start_time": "2021-11-04T13:16:34.060Z"
   },
   {
    "duration": 39,
    "start_time": "2021-11-04T13:16:35.755Z"
   },
   {
    "duration": 23,
    "start_time": "2021-11-04T13:16:36.654Z"
   },
   {
    "duration": 411,
    "start_time": "2021-11-04T13:22:44.911Z"
   },
   {
    "duration": 817,
    "start_time": "2021-11-04T13:23:16.338Z"
   },
   {
    "duration": 172,
    "start_time": "2021-11-04T13:23:42.858Z"
   },
   {
    "duration": 26,
    "start_time": "2021-11-04T13:23:52.632Z"
   },
   {
    "duration": 33,
    "start_time": "2021-11-04T13:24:00.318Z"
   },
   {
    "duration": 7,
    "start_time": "2021-11-04T13:25:02.479Z"
   },
   {
    "duration": 25,
    "start_time": "2021-11-04T13:25:43.220Z"
   },
   {
    "duration": 6,
    "start_time": "2021-11-04T13:25:46.342Z"
   },
   {
    "duration": 29,
    "start_time": "2021-11-04T13:25:54.920Z"
   },
   {
    "duration": 6,
    "start_time": "2021-11-04T13:27:07.581Z"
   },
   {
    "duration": 28,
    "start_time": "2021-11-04T13:27:17.631Z"
   },
   {
    "duration": 21,
    "start_time": "2021-11-04T13:27:41.947Z"
   },
   {
    "duration": 29,
    "start_time": "2021-11-04T13:27:54.938Z"
   },
   {
    "duration": 80,
    "start_time": "2021-11-04T13:28:13.613Z"
   },
   {
    "duration": 99,
    "start_time": "2021-11-04T13:29:18.908Z"
   },
   {
    "duration": 98,
    "start_time": "2021-11-04T13:29:25.091Z"
   },
   {
    "duration": 95,
    "start_time": "2021-11-04T13:29:28.028Z"
   },
   {
    "duration": 73,
    "start_time": "2021-11-04T13:30:19.255Z"
   },
   {
    "duration": 84,
    "start_time": "2021-11-04T13:30:26.252Z"
   },
   {
    "duration": 70,
    "start_time": "2021-11-04T13:30:31.764Z"
   },
   {
    "duration": 13,
    "start_time": "2021-11-04T13:30:53.281Z"
   },
   {
    "duration": 4,
    "start_time": "2021-11-04T13:32:24.103Z"
   },
   {
    "duration": 17,
    "start_time": "2021-11-04T13:32:50.217Z"
   },
   {
    "duration": 14,
    "start_time": "2021-11-04T13:32:54.933Z"
   },
   {
    "duration": 56,
    "start_time": "2021-11-04T13:37:17.538Z"
   },
   {
    "duration": 421,
    "start_time": "2021-11-04T13:37:46.617Z"
   },
   {
    "duration": 9240,
    "start_time": "2021-11-04T13:38:11.119Z"
   },
   {
    "duration": 36,
    "start_time": "2021-11-04T13:38:25.550Z"
   },
   {
    "duration": 14,
    "start_time": "2021-11-04T13:38:51.080Z"
   },
   {
    "duration": 15,
    "start_time": "2021-11-04T13:39:46.430Z"
   },
   {
    "duration": 16,
    "start_time": "2021-11-04T13:40:00.173Z"
   },
   {
    "duration": 5,
    "start_time": "2021-11-04T13:41:28.176Z"
   },
   {
    "duration": 21,
    "start_time": "2021-11-04T13:41:34.492Z"
   },
   {
    "duration": 19,
    "start_time": "2021-11-04T13:41:35.257Z"
   },
   {
    "duration": 21,
    "start_time": "2021-11-04T13:41:35.994Z"
   },
   {
    "duration": 18,
    "start_time": "2021-11-04T13:41:36.697Z"
   },
   {
    "duration": 21,
    "start_time": "2021-11-04T13:41:37.567Z"
   },
   {
    "duration": 19,
    "start_time": "2021-11-04T13:41:40.207Z"
   },
   {
    "duration": 21,
    "start_time": "2021-11-04T13:41:44.903Z"
   },
   {
    "duration": 13,
    "start_time": "2021-11-04T13:41:59.431Z"
   },
   {
    "duration": 16,
    "start_time": "2021-11-04T13:42:08.182Z"
   },
   {
    "duration": 12,
    "start_time": "2021-11-04T13:42:09.158Z"
   },
   {
    "duration": 5,
    "start_time": "2021-11-04T13:42:19.058Z"
   },
   {
    "duration": 5,
    "start_time": "2021-11-04T13:43:28.464Z"
   },
   {
    "duration": 5,
    "start_time": "2021-11-04T13:44:54.335Z"
   },
   {
    "duration": 36,
    "start_time": "2021-11-04T13:44:58.005Z"
   },
   {
    "duration": 22,
    "start_time": "2021-11-04T13:45:04.090Z"
   },
   {
    "duration": 38,
    "start_time": "2021-11-04T13:45:15.086Z"
   },
   {
    "duration": 23,
    "start_time": "2021-11-04T13:45:15.685Z"
   },
   {
    "duration": 19,
    "start_time": "2021-11-04T13:48:29.431Z"
   },
   {
    "duration": 11,
    "start_time": "2021-11-04T13:48:44.850Z"
   },
   {
    "duration": 7,
    "start_time": "2021-11-04T13:49:04.515Z"
   },
   {
    "duration": 11,
    "start_time": "2021-11-04T13:49:10.905Z"
   },
   {
    "duration": 9,
    "start_time": "2021-11-04T13:50:03.721Z"
   },
   {
    "duration": 7,
    "start_time": "2021-11-04T13:50:18.176Z"
   },
   {
    "duration": 7,
    "start_time": "2021-11-04T13:50:55.713Z"
   },
   {
    "duration": 993,
    "start_time": "2021-11-04T17:46:58.043Z"
   },
   {
    "duration": 267,
    "start_time": "2021-11-04T17:46:59.040Z"
   },
   {
    "duration": 43,
    "start_time": "2021-11-04T17:46:59.312Z"
   },
   {
    "duration": 69,
    "start_time": "2021-11-04T17:46:59.359Z"
   },
   {
    "duration": 6,
    "start_time": "2021-11-04T17:46:59.431Z"
   },
   {
    "duration": 41,
    "start_time": "2021-11-04T17:46:59.439Z"
   },
   {
    "duration": 10,
    "start_time": "2021-11-04T17:46:59.482Z"
   },
   {
    "duration": 54,
    "start_time": "2021-11-04T17:46:59.494Z"
   },
   {
    "duration": 28,
    "start_time": "2021-11-04T17:46:59.552Z"
   },
   {
    "duration": 47,
    "start_time": "2021-11-04T17:46:59.583Z"
   },
   {
    "duration": 104,
    "start_time": "2021-11-04T17:46:59.633Z"
   },
   {
    "duration": 116,
    "start_time": "2021-11-04T17:46:59.739Z"
   },
   {
    "duration": 83,
    "start_time": "2021-11-04T17:46:59.857Z"
   },
   {
    "duration": 14,
    "start_time": "2021-11-04T17:46:59.942Z"
   },
   {
    "duration": 4,
    "start_time": "2021-11-04T17:46:59.958Z"
   },
   {
    "duration": 20,
    "start_time": "2021-11-04T17:46:59.965Z"
   },
   {
    "duration": 46,
    "start_time": "2021-11-04T17:46:59.988Z"
   },
   {
    "duration": 13,
    "start_time": "2021-11-04T17:47:00.037Z"
   },
   {
    "duration": 17,
    "start_time": "2021-11-04T17:47:00.053Z"
   },
   {
    "duration": 5,
    "start_time": "2021-11-04T17:47:00.072Z"
   },
   {
    "duration": 67,
    "start_time": "2021-11-04T17:47:00.079Z"
   },
   {
    "duration": 21,
    "start_time": "2021-11-04T17:47:00.149Z"
   },
   {
    "duration": 33,
    "start_time": "2021-11-04T17:47:00.172Z"
   },
   {
    "duration": 20,
    "start_time": "2021-11-04T17:47:00.228Z"
   },
   {
    "duration": 22,
    "start_time": "2021-11-04T17:47:00.250Z"
   },
   {
    "duration": 57,
    "start_time": "2021-11-04T17:47:00.274Z"
   },
   {
    "duration": 13,
    "start_time": "2021-11-04T17:47:00.336Z"
   },
   {
    "duration": 28,
    "start_time": "2021-11-04T17:47:00.351Z"
   },
   {
    "duration": 24,
    "start_time": "2021-11-04T17:47:00.382Z"
   },
   {
    "duration": 24,
    "start_time": "2021-11-04T17:47:00.408Z"
   },
   {
    "duration": 68,
    "start_time": "2021-11-04T17:47:00.434Z"
   },
   {
    "duration": 22,
    "start_time": "2021-11-04T17:47:00.504Z"
   },
   {
    "duration": 44,
    "start_time": "2021-11-04T17:47:00.529Z"
   },
   {
    "duration": 25,
    "start_time": "2021-11-04T17:47:00.576Z"
   },
   {
    "duration": 43,
    "start_time": "2021-11-04T17:47:00.604Z"
   },
   {
    "duration": 11,
    "start_time": "2021-11-04T17:47:00.649Z"
   },
   {
    "duration": 23,
    "start_time": "2021-11-04T17:47:00.662Z"
   },
   {
    "duration": 38,
    "start_time": "2021-11-04T17:47:00.688Z"
   },
   {
    "duration": 16,
    "start_time": "2021-11-04T17:48:19.749Z"
   },
   {
    "duration": 426,
    "start_time": "2021-11-04T17:48:43.094Z"
   },
   {
    "duration": 20,
    "start_time": "2021-11-04T17:48:54.647Z"
   },
   {
    "duration": 13,
    "start_time": "2021-11-04T17:50:22.539Z"
   },
   {
    "duration": 170,
    "start_time": "2021-11-04T18:09:09.260Z"
   },
   {
    "duration": 4,
    "start_time": "2021-11-04T19:13:34.449Z"
   },
   {
    "duration": 190,
    "start_time": "2021-11-04T19:13:34.455Z"
   },
   {
    "duration": 15,
    "start_time": "2021-11-04T19:13:34.648Z"
   },
   {
    "duration": 40,
    "start_time": "2021-11-04T19:13:34.666Z"
   },
   {
    "duration": 23,
    "start_time": "2021-11-04T19:13:34.709Z"
   },
   {
    "duration": 29,
    "start_time": "2021-11-04T19:13:34.735Z"
   },
   {
    "duration": 5,
    "start_time": "2021-11-04T19:13:34.766Z"
   },
   {
    "duration": 62,
    "start_time": "2021-11-04T19:13:34.774Z"
   },
   {
    "duration": 23,
    "start_time": "2021-11-04T19:13:34.840Z"
   },
   {
    "duration": 32,
    "start_time": "2021-11-04T19:13:34.866Z"
   },
   {
    "duration": 110,
    "start_time": "2021-11-04T19:13:34.900Z"
   },
   {
    "duration": 117,
    "start_time": "2021-11-04T19:13:35.012Z"
   },
   {
    "duration": 80,
    "start_time": "2021-11-04T19:13:35.131Z"
   },
   {
    "duration": 26,
    "start_time": "2021-11-04T19:13:35.214Z"
   },
   {
    "duration": 4,
    "start_time": "2021-11-04T19:13:35.243Z"
   },
   {
    "duration": 24,
    "start_time": "2021-11-04T19:13:35.249Z"
   },
   {
    "duration": 24,
    "start_time": "2021-11-04T19:13:35.275Z"
   },
   {
    "duration": 40,
    "start_time": "2021-11-04T19:13:35.301Z"
   },
   {
    "duration": 15,
    "start_time": "2021-11-04T19:13:35.343Z"
   },
   {
    "duration": 18,
    "start_time": "2021-11-04T19:13:35.361Z"
   },
   {
    "duration": 4,
    "start_time": "2021-11-04T19:13:35.381Z"
   },
   {
    "duration": 64,
    "start_time": "2021-11-04T19:13:35.388Z"
   },
   {
    "duration": 20,
    "start_time": "2021-11-04T19:13:35.454Z"
   },
   {
    "duration": 21,
    "start_time": "2021-11-04T19:13:35.476Z"
   },
   {
    "duration": 44,
    "start_time": "2021-11-04T19:13:35.499Z"
   },
   {
    "duration": 22,
    "start_time": "2021-11-04T19:13:35.546Z"
   },
   {
    "duration": 19,
    "start_time": "2021-11-04T19:13:35.573Z"
   },
   {
    "duration": 48,
    "start_time": "2021-11-04T19:13:35.595Z"
   },
   {
    "duration": 26,
    "start_time": "2021-11-04T19:13:35.645Z"
   },
   {
    "duration": 14,
    "start_time": "2021-11-04T19:13:35.674Z"
   },
   {
    "duration": 6,
    "start_time": "2021-11-04T19:13:35.690Z"
   },
   {
    "duration": 67,
    "start_time": "2021-11-04T19:13:35.698Z"
   },
   {
    "duration": 23,
    "start_time": "2021-11-04T19:13:35.767Z"
   },
   {
    "duration": 64,
    "start_time": "2021-11-04T19:13:35.792Z"
   },
   {
    "duration": 23,
    "start_time": "2021-11-04T19:13:35.859Z"
   },
   {
    "duration": 12,
    "start_time": "2021-11-04T19:13:35.885Z"
   },
   {
    "duration": 7,
    "start_time": "2021-11-04T19:13:35.930Z"
   },
   {
    "duration": 15,
    "start_time": "2021-11-04T19:13:48.949Z"
   },
   {
    "duration": 13,
    "start_time": "2021-11-04T19:13:57.611Z"
   }
  ],
  "colab": {
   "collapsed_sections": [
    "E0vqbgi9ay0H",
    "VUC88oWjTJw2"
   ],
   "name": "yandex_music_project_2021.2.ipynb",
   "provenance": []
  },
  "kernelspec": {
   "display_name": "Python 3 (ipykernel)",
   "language": "python",
   "name": "python3"
  },
  "language_info": {
   "codemirror_mode": {
    "name": "ipython",
    "version": 3
   },
   "file_extension": ".py",
   "mimetype": "text/x-python",
   "name": "python",
   "nbconvert_exporter": "python",
   "pygments_lexer": "ipython3",
   "version": "3.9.7"
  },
  "toc": {
   "base_numbering": 1,
   "nav_menu": {},
   "number_sections": false,
   "sideBar": true,
   "skip_h1_title": true,
   "title_cell": "Table of Contents",
   "title_sidebar": "Contents",
   "toc_cell": false,
   "toc_position": {
    "height": "calc(100% - 180px)",
    "left": "10px",
    "top": "150px",
    "width": "227px"
   },
   "toc_section_display": true,
   "toc_window_display": true
  }
 },
 "nbformat": 4,
 "nbformat_minor": 1
}
